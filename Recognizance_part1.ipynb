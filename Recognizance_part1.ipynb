{
 "cells": [
  {
   "cell_type": "code",
   "execution_count": 1,
   "metadata": {},
   "outputs": [],
   "source": [
    "import pandas as pd\n",
    "import numpy as np \n",
    "import matplotlib.pyplot as plt\n",
    "from sklearn.decomposition import PCA\n",
    "from sklearn.neural_network import MLPClassifier\n",
    "from sklearn.neural_network import MLPRegressor\n",
    "from sklearn.model_selection import train_test_split\n",
    "from sklearn.preprocessing import StandardScaler\n",
    "from sklearn.preprocessing import MinMaxScaler\n",
    "from sklearn.ensemble import RandomForestClassifier\n",
    "from sklearn.metrics import mean_squared_error\n",
    "from sklearn.metrics import confusion_matrix\n",
    "from sklearn.metrics import f1_score\n",
    "from sklearn.metrics import accuracy_score\n",
    "from sklearn.metrics import roc_auc_score"
   ]
  },
  {
   "cell_type": "code",
   "execution_count": 2,
   "metadata": {},
   "outputs": [],
   "source": [
    "clf = pd.read_csv(\"Data_for_practice/client_train.csv\")"
   ]
  },
  {
   "cell_type": "code",
   "execution_count": 3,
   "metadata": {},
   "outputs": [],
   "source": [
    "clf['creation_date'] = pd.to_datetime(clf['creation_date'])"
   ]
  },
  {
   "cell_type": "code",
   "execution_count": 4,
   "metadata": {},
   "outputs": [
    {
     "data": {
      "text/plain": [
       "Timestamp('2019-12-07 00:00:00')"
      ]
     },
     "execution_count": 4,
     "metadata": {},
     "output_type": "execute_result"
    }
   ],
   "source": [
    "clf[\"creation_date\"].max()"
   ]
  },
  {
   "cell_type": "code",
   "execution_count": 5,
   "metadata": {},
   "outputs": [],
   "source": [
    "clf['coop_time'] = (2021 - clf['creation_date'].dt.year)*12 - clf['creation_date'].dt.month"
   ]
  },
  {
   "cell_type": "code",
   "execution_count": 6,
   "metadata": {},
   "outputs": [
    {
     "data": {
      "text/plain": [
       "527"
      ]
     },
     "execution_count": 6,
     "metadata": {},
     "output_type": "execute_result"
    }
   ],
   "source": [
    "clf[\"coop_time\"].max()"
   ]
  },
  {
   "cell_type": "code",
   "execution_count": 7,
   "metadata": {},
   "outputs": [
    {
     "name": "stderr",
     "output_type": "stream",
     "text": [
      "C:\\Users\\DELL\\anaconda3\\lib\\site-packages\\IPython\\core\\interactiveshell.py:3146: DtypeWarning: Columns (4) have mixed types.Specify dtype option on import or set low_memory=False.\n",
      "  has_raised = await self.run_ast_nodes(code_ast.body, cell_name,\n"
     ]
    }
   ],
   "source": [
    "df = pd.read_csv(\"Data_for_practice/train_invoice.csv\")"
   ]
  },
  {
   "cell_type": "code",
   "execution_count": 8,
   "metadata": {},
   "outputs": [],
   "source": [
    "df['counter_type'] = df['counter_type'].map({\"ELEC\":1,\"GAZ\":0})"
   ]
  },
  {
   "cell_type": "code",
   "execution_count": 9,
   "metadata": {},
   "outputs": [],
   "source": [
    "df['invoice_date'] = pd.to_datetime(df['invoice_date'], dayfirst=True)\n",
    "df['invoice_month'] = df['invoice_date'].dt.month"
   ]
  },
  {
   "cell_type": "code",
   "execution_count": 10,
   "metadata": {},
   "outputs": [],
   "source": [
    "df['delta_index'] = df['new_index'] - df['old_index']"
   ]
  },
  {
   "cell_type": "code",
   "execution_count": 13,
   "metadata": {},
   "outputs": [
    {
     "data": {
      "text/html": [
       "<div>\n",
       "<style scoped>\n",
       "    .dataframe tbody tr th:only-of-type {\n",
       "        vertical-align: middle;\n",
       "    }\n",
       "\n",
       "    .dataframe tbody tr th {\n",
       "        vertical-align: top;\n",
       "    }\n",
       "\n",
       "    .dataframe thead th {\n",
       "        text-align: right;\n",
       "    }\n",
       "</style>\n",
       "<table border=\"1\" class=\"dataframe\">\n",
       "  <thead>\n",
       "    <tr style=\"text-align: right;\">\n",
       "      <th></th>\n",
       "      <th>client_id</th>\n",
       "      <th>invoice_date</th>\n",
       "      <th>tarif_type</th>\n",
       "      <th>counter_number</th>\n",
       "      <th>counter_statue</th>\n",
       "      <th>counter_code</th>\n",
       "      <th>reading_remarque</th>\n",
       "      <th>counter_coefficient</th>\n",
       "      <th>consommation_level_1</th>\n",
       "      <th>consommation_level_2</th>\n",
       "      <th>consommation_level_3</th>\n",
       "      <th>consommation_level_4</th>\n",
       "      <th>old_index</th>\n",
       "      <th>new_index</th>\n",
       "      <th>months_number</th>\n",
       "      <th>counter_type</th>\n",
       "      <th>invoice_month</th>\n",
       "      <th>delta_index</th>\n",
       "      <th>delta_time</th>\n",
       "    </tr>\n",
       "  </thead>\n",
       "  <tbody>\n",
       "    <tr>\n",
       "      <th>3279690</th>\n",
       "      <td>train_Client_67499</td>\n",
       "      <td>2018-06-25</td>\n",
       "      <td>11</td>\n",
       "      <td>6301121</td>\n",
       "      <td>0</td>\n",
       "      <td>410</td>\n",
       "      <td>6</td>\n",
       "      <td>1</td>\n",
       "      <td>402</td>\n",
       "      <td>0</td>\n",
       "      <td>0</td>\n",
       "      <td>0</td>\n",
       "      <td>143382</td>\n",
       "      <td>143784</td>\n",
       "      <td>4</td>\n",
       "      <td>1</td>\n",
       "      <td>6</td>\n",
       "      <td>402</td>\n",
       "      <td>120.0</td>\n",
       "    </tr>\n",
       "    <tr>\n",
       "      <th>3279691</th>\n",
       "      <td>train_Client_67499</td>\n",
       "      <td>2017-02-28</td>\n",
       "      <td>11</td>\n",
       "      <td>6301121</td>\n",
       "      <td>0</td>\n",
       "      <td>410</td>\n",
       "      <td>8</td>\n",
       "      <td>1</td>\n",
       "      <td>171</td>\n",
       "      <td>0</td>\n",
       "      <td>0</td>\n",
       "      <td>0</td>\n",
       "      <td>142871</td>\n",
       "      <td>143042</td>\n",
       "      <td>4</td>\n",
       "      <td>1</td>\n",
       "      <td>2</td>\n",
       "      <td>171</td>\n",
       "      <td>118.0</td>\n",
       "    </tr>\n",
       "    <tr>\n",
       "      <th>3279692</th>\n",
       "      <td>train_Client_67499</td>\n",
       "      <td>2016-01-11</td>\n",
       "      <td>11</td>\n",
       "      <td>6301121</td>\n",
       "      <td>0</td>\n",
       "      <td>410</td>\n",
       "      <td>8</td>\n",
       "      <td>1</td>\n",
       "      <td>51</td>\n",
       "      <td>0</td>\n",
       "      <td>0</td>\n",
       "      <td>0</td>\n",
       "      <td>142820</td>\n",
       "      <td>142871</td>\n",
       "      <td>2</td>\n",
       "      <td>1</td>\n",
       "      <td>1</td>\n",
       "      <td>51</td>\n",
       "      <td>127.0</td>\n",
       "    </tr>\n",
       "    <tr>\n",
       "      <th>3279693</th>\n",
       "      <td>train_Client_67499</td>\n",
       "      <td>2015-03-11</td>\n",
       "      <td>11</td>\n",
       "      <td>6301121</td>\n",
       "      <td>0</td>\n",
       "      <td>410</td>\n",
       "      <td>9</td>\n",
       "      <td>1</td>\n",
       "      <td>438</td>\n",
       "      <td>0</td>\n",
       "      <td>0</td>\n",
       "      <td>0</td>\n",
       "      <td>141762</td>\n",
       "      <td>142200</td>\n",
       "      <td>4</td>\n",
       "      <td>1</td>\n",
       "      <td>3</td>\n",
       "      <td>438</td>\n",
       "      <td>121.0</td>\n",
       "    </tr>\n",
       "    <tr>\n",
       "      <th>3279694</th>\n",
       "      <td>train_Client_67499</td>\n",
       "      <td>2017-06-23</td>\n",
       "      <td>11</td>\n",
       "      <td>6301121</td>\n",
       "      <td>0</td>\n",
       "      <td>410</td>\n",
       "      <td>8</td>\n",
       "      <td>1</td>\n",
       "      <td>124</td>\n",
       "      <td>0</td>\n",
       "      <td>0</td>\n",
       "      <td>0</td>\n",
       "      <td>143042</td>\n",
       "      <td>143166</td>\n",
       "      <td>4</td>\n",
       "      <td>1</td>\n",
       "      <td>6</td>\n",
       "      <td>124</td>\n",
       "      <td>7.0</td>\n",
       "    </tr>\n",
       "  </tbody>\n",
       "</table>\n",
       "</div>"
      ],
      "text/plain": [
       "                  client_id invoice_date  tarif_type  counter_number  \\\n",
       "3279690  train_Client_67499   2018-06-25          11         6301121   \n",
       "3279691  train_Client_67499   2017-02-28          11         6301121   \n",
       "3279692  train_Client_67499   2016-01-11          11         6301121   \n",
       "3279693  train_Client_67499   2015-03-11          11         6301121   \n",
       "3279694  train_Client_67499   2017-06-23          11         6301121   \n",
       "\n",
       "        counter_statue  counter_code  reading_remarque  counter_coefficient  \\\n",
       "3279690              0           410                 6                    1   \n",
       "3279691              0           410                 8                    1   \n",
       "3279692              0           410                 8                    1   \n",
       "3279693              0           410                 9                    1   \n",
       "3279694              0           410                 8                    1   \n",
       "\n",
       "         consommation_level_1  consommation_level_2  consommation_level_3  \\\n",
       "3279690                   402                     0                     0   \n",
       "3279691                   171                     0                     0   \n",
       "3279692                    51                     0                     0   \n",
       "3279693                   438                     0                     0   \n",
       "3279694                   124                     0                     0   \n",
       "\n",
       "         consommation_level_4  old_index  new_index  months_number  \\\n",
       "3279690                     0     143382     143784              4   \n",
       "3279691                     0     142871     143042              4   \n",
       "3279692                     0     142820     142871              2   \n",
       "3279693                     0     141762     142200              4   \n",
       "3279694                     0     143042     143166              4   \n",
       "\n",
       "         counter_type  invoice_month  delta_index  delta_time  \n",
       "3279690             1              6          402       120.0  \n",
       "3279691             1              2          171       118.0  \n",
       "3279692             1              1           51       127.0  \n",
       "3279693             1              3          438       121.0  \n",
       "3279694             1              6          124         7.0  "
      ]
     },
     "execution_count": 13,
     "metadata": {},
     "output_type": "execute_result"
    }
   ],
   "source": [
    "df.tail()"
   ]
  },
  {
   "cell_type": "code",
   "execution_count": 12,
   "metadata": {},
   "outputs": [],
   "source": [
    "df['delta_time'] = df.sort_values(['client_id','invoice_date']).groupby('client_id')['invoice_date'].diff(periods = 1).dt.days.reset_index(drop=True)"
   ]
  },
  {
   "cell_type": "code",
   "execution_count": 86,
   "metadata": {},
   "outputs": [],
   "source": [
    "df[\"delta_time\"] = df[\"delta_time\"].fillna(0)"
   ]
  },
  {
   "cell_type": "code",
   "execution_count": 87,
   "metadata": {},
   "outputs": [
    {
     "data": {
      "text/plain": [
       "False    3279695\n",
       "Name: delta_time, dtype: int64"
      ]
     },
     "execution_count": 87,
     "metadata": {},
     "output_type": "execute_result"
    }
   ],
   "source": [
    "df[\"delta_time\"].isna().value_counts()"
   ]
  },
  {
   "cell_type": "code",
   "execution_count": 88,
   "metadata": {},
   "outputs": [],
   "source": [
    "df = df.drop(columns = [\"invoice_date\",\"counter_number\",\"counter_code\",\"consommation_level_4\",\"old_index\",\"new_index\"])"
   ]
  },
  {
   "cell_type": "code",
   "execution_count": 89,
   "metadata": {},
   "outputs": [
    {
     "data": {
      "text/plain": [
       "Index(['client_id', 'tarif_type', 'counter_statue', 'reading_remarque',\n",
       "       'counter_coefficient', 'consommation_level_1', 'consommation_level_2',\n",
       "       'consommation_level_3', 'months_number', 'counter_type',\n",
       "       'invoice_month', 'delta_index', 'delta_time'],\n",
       "      dtype='object')"
      ]
     },
     "execution_count": 89,
     "metadata": {},
     "output_type": "execute_result"
    }
   ],
   "source": [
    "df.columns"
   ]
  },
  {
   "cell_type": "code",
   "execution_count": 90,
   "metadata": {},
   "outputs": [],
   "source": [
    "df['counter_statue'] = df['counter_statue'].map({0:0,1:1,2:2,3:3,4:4,5:5,769:5,'0':0,'5':5,'1':1,'4':4,'A':0,618:5,269375:5,46:5,420:5})"
   ]
  },
  {
   "cell_type": "code",
   "execution_count": 91,
   "metadata": {},
   "outputs": [],
   "source": [
    " l  = ['tarif_type', 'counter_statue', 'reading_remarque','counter_coefficient', 'consommation_level_1', 'consommation_level_2','consommation_level_3', 'months_number', 'counter_type','invoice_month', 'delta_index', 'delta_time',]"
   ]
  },
  {
   "cell_type": "code",
   "execution_count": 95,
   "metadata": {},
   "outputs": [
    {
     "data": {
      "text/plain": [
       "False    96312\n",
       "True      3071\n",
       "Name: consommation_level_1, dtype: int64"
      ]
     },
     "execution_count": 95,
     "metadata": {},
     "output_type": "execute_result"
    }
   ],
   "source": [
    "df.groupby(\"client_id\")[\"consommation_level_1\"].std().isna().value_counts()"
   ]
  },
  {
   "cell_type": "code",
   "execution_count": 101,
   "metadata": {},
   "outputs": [],
   "source": [
    "new_df = df.groupby('client_id')[l].agg(['mean','std'])\n",
    "new_df.columns = ['_'.join(col).strip() for col in new_df.columns.values]\n",
    "new_df.reset_index(inplace=True)"
   ]
  },
  {
   "cell_type": "code",
   "execution_count": 56,
   "metadata": {},
   "outputs": [],
   "source": [
    "#new_df = df.groupby('client_id')[l].agg([\"mean\",\"std\"])"
   ]
  },
  {
   "cell_type": "code",
   "execution_count": 100,
   "metadata": {},
   "outputs": [
    {
     "data": {
      "text/plain": [
       "client_id\n",
       "train_Client_0        35\n",
       "train_Client_1        37\n",
       "train_Client_10       18\n",
       "train_Client_100      20\n",
       "train_Client_1000     14\n",
       "                      ..\n",
       "train_Client_67495    55\n",
       "train_Client_67496    39\n",
       "train_Client_67497    18\n",
       "train_Client_67498    21\n",
       "train_Client_67499    14\n",
       "Length: 99383, dtype: int64"
      ]
     },
     "execution_count": 100,
     "metadata": {},
     "output_type": "execute_result"
    }
   ],
   "source": [
    "df.groupby('client_id').size()"
   ]
  },
  {
   "cell_type": "code",
   "execution_count": 104,
   "metadata": {},
   "outputs": [],
   "source": [
    "dff = df.groupby('client_id').size().reset_index(name='transactions_count')"
   ]
  },
  {
   "cell_type": "code",
   "execution_count": 102,
   "metadata": {},
   "outputs": [
    {
     "data": {
      "text/html": [
       "<div>\n",
       "<style scoped>\n",
       "    .dataframe tbody tr th:only-of-type {\n",
       "        vertical-align: middle;\n",
       "    }\n",
       "\n",
       "    .dataframe tbody tr th {\n",
       "        vertical-align: top;\n",
       "    }\n",
       "\n",
       "    .dataframe thead th {\n",
       "        text-align: right;\n",
       "    }\n",
       "</style>\n",
       "<table border=\"1\" class=\"dataframe\">\n",
       "  <thead>\n",
       "    <tr style=\"text-align: right;\">\n",
       "      <th></th>\n",
       "      <th>client_id</th>\n",
       "      <th>tarif_type_mean</th>\n",
       "      <th>tarif_type_std</th>\n",
       "      <th>counter_statue_mean</th>\n",
       "      <th>counter_statue_std</th>\n",
       "      <th>reading_remarque_mean</th>\n",
       "      <th>reading_remarque_std</th>\n",
       "      <th>counter_coefficient_mean</th>\n",
       "      <th>counter_coefficient_std</th>\n",
       "      <th>consommation_level_1_mean</th>\n",
       "      <th>...</th>\n",
       "      <th>months_number_mean</th>\n",
       "      <th>months_number_std</th>\n",
       "      <th>counter_type_mean</th>\n",
       "      <th>counter_type_std</th>\n",
       "      <th>invoice_month_mean</th>\n",
       "      <th>invoice_month_std</th>\n",
       "      <th>delta_index_mean</th>\n",
       "      <th>delta_index_std</th>\n",
       "      <th>delta_time_mean</th>\n",
       "      <th>delta_time_std</th>\n",
       "    </tr>\n",
       "  </thead>\n",
       "  <tbody>\n",
       "    <tr>\n",
       "      <th>0</th>\n",
       "      <td>train_Client_0</td>\n",
       "      <td>11.0</td>\n",
       "      <td>0.0</td>\n",
       "      <td>0.0</td>\n",
       "      <td>0.0</td>\n",
       "      <td>6.971429</td>\n",
       "      <td>1.248192</td>\n",
       "      <td>1.0</td>\n",
       "      <td>0.0</td>\n",
       "      <td>352.400000</td>\n",
       "      <td>...</td>\n",
       "      <td>4.628571</td>\n",
       "      <td>2.101620</td>\n",
       "      <td>1.0</td>\n",
       "      <td>0.0</td>\n",
       "      <td>6.685714</td>\n",
       "      <td>3.587326</td>\n",
       "      <td>362.971429</td>\n",
       "      <td>341.553930</td>\n",
       "      <td>140.028571</td>\n",
       "      <td>89.676702</td>\n",
       "    </tr>\n",
       "    <tr>\n",
       "      <th>1</th>\n",
       "      <td>train_Client_1</td>\n",
       "      <td>11.0</td>\n",
       "      <td>0.0</td>\n",
       "      <td>0.0</td>\n",
       "      <td>0.0</td>\n",
       "      <td>7.216216</td>\n",
       "      <td>1.377097</td>\n",
       "      <td>1.0</td>\n",
       "      <td>0.0</td>\n",
       "      <td>557.540541</td>\n",
       "      <td>...</td>\n",
       "      <td>4.324324</td>\n",
       "      <td>1.375461</td>\n",
       "      <td>1.0</td>\n",
       "      <td>0.0</td>\n",
       "      <td>5.135135</td>\n",
       "      <td>3.128384</td>\n",
       "      <td>557.540541</td>\n",
       "      <td>197.935960</td>\n",
       "      <td>132.783784</td>\n",
       "      <td>93.917853</td>\n",
       "    </tr>\n",
       "    <tr>\n",
       "      <th>2</th>\n",
       "      <td>train_Client_10</td>\n",
       "      <td>11.0</td>\n",
       "      <td>0.0</td>\n",
       "      <td>0.0</td>\n",
       "      <td>0.0</td>\n",
       "      <td>7.055556</td>\n",
       "      <td>1.258955</td>\n",
       "      <td>1.0</td>\n",
       "      <td>0.0</td>\n",
       "      <td>798.611111</td>\n",
       "      <td>...</td>\n",
       "      <td>6.444444</td>\n",
       "      <td>3.399346</td>\n",
       "      <td>1.0</td>\n",
       "      <td>0.0</td>\n",
       "      <td>6.611111</td>\n",
       "      <td>3.292396</td>\n",
       "      <td>836.500000</td>\n",
       "      <td>646.808386</td>\n",
       "      <td>273.388889</td>\n",
       "      <td>252.605281</td>\n",
       "    </tr>\n",
       "    <tr>\n",
       "      <th>3</th>\n",
       "      <td>train_Client_100</td>\n",
       "      <td>11.0</td>\n",
       "      <td>0.0</td>\n",
       "      <td>0.0</td>\n",
       "      <td>0.0</td>\n",
       "      <td>6.150000</td>\n",
       "      <td>0.670820</td>\n",
       "      <td>1.0</td>\n",
       "      <td>0.0</td>\n",
       "      <td>1.200000</td>\n",
       "      <td>...</td>\n",
       "      <td>4.200000</td>\n",
       "      <td>0.615587</td>\n",
       "      <td>1.0</td>\n",
       "      <td>0.0</td>\n",
       "      <td>5.550000</td>\n",
       "      <td>3.203206</td>\n",
       "      <td>1.200000</td>\n",
       "      <td>3.607011</td>\n",
       "      <td>133.200000</td>\n",
       "      <td>98.162379</td>\n",
       "    </tr>\n",
       "    <tr>\n",
       "      <th>4</th>\n",
       "      <td>train_Client_1000</td>\n",
       "      <td>11.0</td>\n",
       "      <td>0.0</td>\n",
       "      <td>0.0</td>\n",
       "      <td>0.0</td>\n",
       "      <td>8.857143</td>\n",
       "      <td>0.363137</td>\n",
       "      <td>1.0</td>\n",
       "      <td>0.0</td>\n",
       "      <td>663.714286</td>\n",
       "      <td>...</td>\n",
       "      <td>3.714286</td>\n",
       "      <td>0.726273</td>\n",
       "      <td>1.0</td>\n",
       "      <td>0.0</td>\n",
       "      <td>7.571429</td>\n",
       "      <td>3.390355</td>\n",
       "      <td>922.642857</td>\n",
       "      <td>633.485669</td>\n",
       "      <td>113.214286</td>\n",
       "      <td>83.534588</td>\n",
       "    </tr>\n",
       "  </tbody>\n",
       "</table>\n",
       "<p>5 rows × 25 columns</p>\n",
       "</div>"
      ],
      "text/plain": [
       "           client_id  tarif_type_mean  tarif_type_std  counter_statue_mean  \\\n",
       "0     train_Client_0             11.0             0.0                  0.0   \n",
       "1     train_Client_1             11.0             0.0                  0.0   \n",
       "2    train_Client_10             11.0             0.0                  0.0   \n",
       "3   train_Client_100             11.0             0.0                  0.0   \n",
       "4  train_Client_1000             11.0             0.0                  0.0   \n",
       "\n",
       "   counter_statue_std  reading_remarque_mean  reading_remarque_std  \\\n",
       "0                 0.0               6.971429              1.248192   \n",
       "1                 0.0               7.216216              1.377097   \n",
       "2                 0.0               7.055556              1.258955   \n",
       "3                 0.0               6.150000              0.670820   \n",
       "4                 0.0               8.857143              0.363137   \n",
       "\n",
       "   counter_coefficient_mean  counter_coefficient_std  \\\n",
       "0                       1.0                      0.0   \n",
       "1                       1.0                      0.0   \n",
       "2                       1.0                      0.0   \n",
       "3                       1.0                      0.0   \n",
       "4                       1.0                      0.0   \n",
       "\n",
       "   consommation_level_1_mean  ...  months_number_mean  months_number_std  \\\n",
       "0                 352.400000  ...            4.628571           2.101620   \n",
       "1                 557.540541  ...            4.324324           1.375461   \n",
       "2                 798.611111  ...            6.444444           3.399346   \n",
       "3                   1.200000  ...            4.200000           0.615587   \n",
       "4                 663.714286  ...            3.714286           0.726273   \n",
       "\n",
       "   counter_type_mean  counter_type_std  invoice_month_mean  invoice_month_std  \\\n",
       "0                1.0               0.0            6.685714           3.587326   \n",
       "1                1.0               0.0            5.135135           3.128384   \n",
       "2                1.0               0.0            6.611111           3.292396   \n",
       "3                1.0               0.0            5.550000           3.203206   \n",
       "4                1.0               0.0            7.571429           3.390355   \n",
       "\n",
       "   delta_index_mean  delta_index_std  delta_time_mean  delta_time_std  \n",
       "0        362.971429       341.553930       140.028571       89.676702  \n",
       "1        557.540541       197.935960       132.783784       93.917853  \n",
       "2        836.500000       646.808386       273.388889      252.605281  \n",
       "3          1.200000         3.607011       133.200000       98.162379  \n",
       "4        922.642857       633.485669       113.214286       83.534588  \n",
       "\n",
       "[5 rows x 25 columns]"
      ]
     },
     "execution_count": 102,
     "metadata": {},
     "output_type": "execute_result"
    }
   ],
   "source": [
    "new_df.head()"
   ]
  },
  {
   "cell_type": "code",
   "execution_count": 268,
   "metadata": {},
   "outputs": [],
   "source": [
    "full_df = pd.merge(clf, new_df, on='client_id', how='left')"
   ]
  },
  {
   "cell_type": "code",
   "execution_count": 269,
   "metadata": {},
   "outputs": [],
   "source": [
    "full_df = pd.merge(full_df, dff, on='client_id', how='left')"
   ]
  },
  {
   "cell_type": "code",
   "execution_count": 270,
   "metadata": {},
   "outputs": [],
   "source": [
    "full_df['invoice_per_cooperation'] = full_df['transactions_count'] / full_df['coop_time']"
   ]
  },
  {
   "cell_type": "code",
   "execution_count": 271,
   "metadata": {},
   "outputs": [],
   "source": [
    "full_df = full_df.fillna(0)"
   ]
  },
  {
   "cell_type": "code",
   "execution_count": 272,
   "metadata": {},
   "outputs": [
    {
     "data": {
      "text/plain": [
       "False    99383\n",
       "Name: invoice_month_std, dtype: int64"
      ]
     },
     "execution_count": 272,
     "metadata": {},
     "output_type": "execute_result"
    }
   ],
   "source": [
    "full_df[\"invoice_month_std\"].isna().value_counts()"
   ]
  },
  {
   "cell_type": "code",
   "execution_count": 273,
   "metadata": {},
   "outputs": [],
   "source": [
    "full_df = full_df.drop(columns = [\"client_id\",\"creation_date\"])"
   ]
  },
  {
   "cell_type": "code",
   "execution_count": 274,
   "metadata": {},
   "outputs": [],
   "source": [
    "for i in full_df.columns:\n",
    "    factor = 5\n",
    "    upper_lim = full_df[i].mean()+ full_df[i].std()*factor\n",
    "    lower_lim = full_df[i].mean() - full_df[i].std()*factor\n",
    "    full_df = full_df[(full_df[i]<upper_lim) & (full_df[i]>lower_lim)]"
   ]
  },
  {
   "cell_type": "code",
   "execution_count": 275,
   "metadata": {},
   "outputs": [
    {
     "data": {
      "text/plain": [
       "(93121, 31)"
      ]
     },
     "execution_count": 275,
     "metadata": {},
     "output_type": "execute_result"
    }
   ],
   "source": [
    "full_df.shape"
   ]
  },
  {
   "cell_type": "code",
   "execution_count": 276,
   "metadata": {},
   "outputs": [
    {
     "data": {
      "text/plain": [
       "0    88062\n",
       "1     5059\n",
       "Name: target, dtype: int64"
      ]
     },
     "execution_count": 276,
     "metadata": {},
     "output_type": "execute_result"
    }
   ],
   "source": [
    "full_df[\"target\"].value_counts()"
   ]
  },
  {
   "cell_type": "code",
   "execution_count": 277,
   "metadata": {},
   "outputs": [],
   "source": [
    "x = full_df"
   ]
  },
  {
   "cell_type": "code",
   "execution_count": 278,
   "metadata": {},
   "outputs": [],
   "source": [
    "x = x.drop(columns = \"target\")"
   ]
  },
  {
   "cell_type": "code",
   "execution_count": 279,
   "metadata": {},
   "outputs": [
    {
     "data": {
      "text/plain": [
       "(93121, 30)"
      ]
     },
     "execution_count": 279,
     "metadata": {},
     "output_type": "execute_result"
    }
   ],
   "source": [
    "x.shape"
   ]
  },
  {
   "cell_type": "code",
   "execution_count": 280,
   "metadata": {},
   "outputs": [
    {
     "data": {
      "text/plain": [
       "False    93121\n",
       "Name: delta_time_std, dtype: int64"
      ]
     },
     "execution_count": 280,
     "metadata": {},
     "output_type": "execute_result"
    }
   ],
   "source": [
    "x[\"delta_time_std\"].isna().value_counts()"
   ]
  },
  {
   "cell_type": "code",
   "execution_count": 281,
   "metadata": {},
   "outputs": [],
   "source": [
    "y = full_df[\"target\"]"
   ]
  },
  {
   "cell_type": "code",
   "execution_count": 282,
   "metadata": {},
   "outputs": [
    {
     "data": {
      "text/plain": [
       "0    88062\n",
       "1     5059\n",
       "Name: target, dtype: int64"
      ]
     },
     "execution_count": 282,
     "metadata": {},
     "output_type": "execute_result"
    }
   ],
   "source": [
    "y.value_counts()"
   ]
  },
  {
   "cell_type": "code",
   "execution_count": 283,
   "metadata": {},
   "outputs": [],
   "source": [
    "x_train, x_test,y_train,y_test = train_test_split(x,y,test_size=1/5, random_state=1)"
   ]
  },
  {
   "cell_type": "code",
   "execution_count": 284,
   "metadata": {},
   "outputs": [],
   "source": [
    "scaler = StandardScaler()\n",
    "scaler.fit(x)\n",
    "x_train = scaler.transform(x_train)\n",
    "x_test = scaler.transform(x_test)"
   ]
  },
  {
   "cell_type": "code",
   "execution_count": 285,
   "metadata": {},
   "outputs": [],
   "source": [
    "pca = PCA(0.97)"
   ]
  },
  {
   "cell_type": "code",
   "execution_count": 286,
   "metadata": {},
   "outputs": [
    {
     "data": {
      "text/plain": [
       "PCA(n_components=0.97)"
      ]
     },
     "execution_count": 286,
     "metadata": {},
     "output_type": "execute_result"
    }
   ],
   "source": [
    "pca.fit(x)"
   ]
  },
  {
   "cell_type": "code",
   "execution_count": 287,
   "metadata": {},
   "outputs": [
    {
     "data": {
      "text/plain": [
       "7"
      ]
     },
     "execution_count": 287,
     "metadata": {},
     "output_type": "execute_result"
    }
   ],
   "source": [
    "pca.n_components_"
   ]
  },
  {
   "cell_type": "code",
   "execution_count": 288,
   "metadata": {},
   "outputs": [],
   "source": [
    "x_train = pca.transform(x_train)\n",
    "x_test = pca.transform(x_test)"
   ]
  },
  {
   "cell_type": "code",
   "execution_count": 253,
   "metadata": {},
   "outputs": [],
   "source": [
    "model = RandomForestClassifier(n_estimators=100,criterion='gini', max_depth=None, min_samples_split=2, min_samples_leaf=1, min_weight_fraction_leaf=0.0, max_features='auto',random_state=0, verbose=1)"
   ]
  },
  {
   "cell_type": "code",
   "execution_count": 254,
   "metadata": {},
   "outputs": [
    {
     "name": "stderr",
     "output_type": "stream",
     "text": [
      "[Parallel(n_jobs=1)]: Using backend SequentialBackend with 1 concurrent workers.\n",
      "[Parallel(n_jobs=1)]: Done 100 out of 100 | elapsed:   15.5s finished\n"
     ]
    },
    {
     "data": {
      "text/plain": [
       "RandomForestClassifier(random_state=0, verbose=1)"
      ]
     },
     "execution_count": 254,
     "metadata": {},
     "output_type": "execute_result"
    }
   ],
   "source": [
    "model.fit(x_train,y_train)"
   ]
  },
  {
   "cell_type": "code",
   "execution_count": 255,
   "metadata": {},
   "outputs": [
    {
     "name": "stderr",
     "output_type": "stream",
     "text": [
      "[Parallel(n_jobs=1)]: Using backend SequentialBackend with 1 concurrent workers.\n",
      "[Parallel(n_jobs=1)]: Done 100 out of 100 | elapsed:    0.2s finished\n"
     ]
    }
   ],
   "source": [
    "y_predict = model.predict(x_test)"
   ]
  },
  {
   "cell_type": "code",
   "execution_count": 256,
   "metadata": {},
   "outputs": [
    {
     "data": {
      "text/plain": [
       "0.9467919463087249"
      ]
     },
     "execution_count": 256,
     "metadata": {},
     "output_type": "execute_result"
    }
   ],
   "source": [
    "accuracy_score(y_predict,y_test)"
   ]
  },
  {
   "cell_type": "code",
   "execution_count": 257,
   "metadata": {},
   "outputs": [
    {
     "data": {
      "text/plain": [
       "0.006018054162487463"
      ]
     },
     "execution_count": 257,
     "metadata": {},
     "output_type": "execute_result"
    }
   ],
   "source": [
    "f1_score(y_test,y_predict,average=\"binary\")"
   ]
  },
  {
   "cell_type": "code",
   "execution_count": 258,
   "metadata": {},
   "outputs": [
    {
     "data": {
      "text/plain": [
       "0.5014822164863665"
      ]
     },
     "execution_count": 258,
     "metadata": {},
     "output_type": "execute_result"
    }
   ],
   "source": [
    "roc_auc_score(y_test,y_predict)"
   ]
  },
  {
   "cell_type": "code",
   "execution_count": 266,
   "metadata": {},
   "outputs": [],
   "source": [
    "full_df.to_csv(\"first_reconizance_part1_train.csv\")"
   ]
  },
  {
   "cell_type": "code",
   "execution_count": 267,
   "metadata": {},
   "outputs": [
    {
     "data": {
      "text/html": [
       "<div>\n",
       "<style scoped>\n",
       "    .dataframe tbody tr th:only-of-type {\n",
       "        vertical-align: middle;\n",
       "    }\n",
       "\n",
       "    .dataframe tbody tr th {\n",
       "        vertical-align: top;\n",
       "    }\n",
       "\n",
       "    .dataframe thead th {\n",
       "        text-align: right;\n",
       "    }\n",
       "</style>\n",
       "<table border=\"1\" class=\"dataframe\">\n",
       "  <thead>\n",
       "    <tr style=\"text-align: right;\">\n",
       "      <th></th>\n",
       "      <th>disrict</th>\n",
       "      <th>client_catg</th>\n",
       "      <th>region</th>\n",
       "      <th>target</th>\n",
       "      <th>coop_time</th>\n",
       "      <th>tarif_type_mean</th>\n",
       "      <th>tarif_type_std</th>\n",
       "      <th>counter_statue_mean</th>\n",
       "      <th>counter_statue_std</th>\n",
       "      <th>reading_remarque_mean</th>\n",
       "      <th>...</th>\n",
       "      <th>counter_type_mean</th>\n",
       "      <th>counter_type_std</th>\n",
       "      <th>invoice_month_mean</th>\n",
       "      <th>invoice_month_std</th>\n",
       "      <th>delta_index_mean</th>\n",
       "      <th>delta_index_std</th>\n",
       "      <th>delta_time_mean</th>\n",
       "      <th>delta_time_std</th>\n",
       "      <th>transactions_count</th>\n",
       "      <th>invoice_per_cooperation</th>\n",
       "    </tr>\n",
       "  </thead>\n",
       "  <tbody>\n",
       "    <tr>\n",
       "      <th>0</th>\n",
       "      <td>60</td>\n",
       "      <td>11</td>\n",
       "      <td>101</td>\n",
       "      <td>0</td>\n",
       "      <td>312</td>\n",
       "      <td>11.000000</td>\n",
       "      <td>0.000000</td>\n",
       "      <td>0.000000</td>\n",
       "      <td>0.000000</td>\n",
       "      <td>6.971429</td>\n",
       "      <td>...</td>\n",
       "      <td>1.000000</td>\n",
       "      <td>0.000000</td>\n",
       "      <td>6.685714</td>\n",
       "      <td>3.587326</td>\n",
       "      <td>362.971429</td>\n",
       "      <td>341.553930</td>\n",
       "      <td>140.028571</td>\n",
       "      <td>89.676702</td>\n",
       "      <td>35</td>\n",
       "      <td>0.112179</td>\n",
       "    </tr>\n",
       "    <tr>\n",
       "      <th>1</th>\n",
       "      <td>69</td>\n",
       "      <td>11</td>\n",
       "      <td>107</td>\n",
       "      <td>0</td>\n",
       "      <td>223</td>\n",
       "      <td>11.000000</td>\n",
       "      <td>0.000000</td>\n",
       "      <td>0.000000</td>\n",
       "      <td>0.000000</td>\n",
       "      <td>7.216216</td>\n",
       "      <td>...</td>\n",
       "      <td>1.000000</td>\n",
       "      <td>0.000000</td>\n",
       "      <td>5.135135</td>\n",
       "      <td>3.128384</td>\n",
       "      <td>557.540541</td>\n",
       "      <td>197.935960</td>\n",
       "      <td>132.783784</td>\n",
       "      <td>93.917853</td>\n",
       "      <td>37</td>\n",
       "      <td>0.165919</td>\n",
       "    </tr>\n",
       "    <tr>\n",
       "      <th>2</th>\n",
       "      <td>62</td>\n",
       "      <td>11</td>\n",
       "      <td>301</td>\n",
       "      <td>0</td>\n",
       "      <td>417</td>\n",
       "      <td>11.000000</td>\n",
       "      <td>0.000000</td>\n",
       "      <td>0.000000</td>\n",
       "      <td>0.000000</td>\n",
       "      <td>7.055556</td>\n",
       "      <td>...</td>\n",
       "      <td>1.000000</td>\n",
       "      <td>0.000000</td>\n",
       "      <td>6.611111</td>\n",
       "      <td>3.292396</td>\n",
       "      <td>836.500000</td>\n",
       "      <td>646.808386</td>\n",
       "      <td>273.388889</td>\n",
       "      <td>252.605281</td>\n",
       "      <td>18</td>\n",
       "      <td>0.043165</td>\n",
       "    </tr>\n",
       "    <tr>\n",
       "      <th>3</th>\n",
       "      <td>69</td>\n",
       "      <td>11</td>\n",
       "      <td>105</td>\n",
       "      <td>0</td>\n",
       "      <td>289</td>\n",
       "      <td>11.000000</td>\n",
       "      <td>0.000000</td>\n",
       "      <td>0.000000</td>\n",
       "      <td>0.000000</td>\n",
       "      <td>6.150000</td>\n",
       "      <td>...</td>\n",
       "      <td>1.000000</td>\n",
       "      <td>0.000000</td>\n",
       "      <td>5.550000</td>\n",
       "      <td>3.203206</td>\n",
       "      <td>1.200000</td>\n",
       "      <td>3.607011</td>\n",
       "      <td>133.200000</td>\n",
       "      <td>98.162379</td>\n",
       "      <td>20</td>\n",
       "      <td>0.069204</td>\n",
       "    </tr>\n",
       "    <tr>\n",
       "      <th>4</th>\n",
       "      <td>62</td>\n",
       "      <td>11</td>\n",
       "      <td>303</td>\n",
       "      <td>0</td>\n",
       "      <td>74</td>\n",
       "      <td>11.000000</td>\n",
       "      <td>0.000000</td>\n",
       "      <td>0.000000</td>\n",
       "      <td>0.000000</td>\n",
       "      <td>8.857143</td>\n",
       "      <td>...</td>\n",
       "      <td>1.000000</td>\n",
       "      <td>0.000000</td>\n",
       "      <td>7.571429</td>\n",
       "      <td>3.390355</td>\n",
       "      <td>922.642857</td>\n",
       "      <td>633.485669</td>\n",
       "      <td>113.214286</td>\n",
       "      <td>83.534588</td>\n",
       "      <td>14</td>\n",
       "      <td>0.189189</td>\n",
       "    </tr>\n",
       "    <tr>\n",
       "      <th>...</th>\n",
       "      <td>...</td>\n",
       "      <td>...</td>\n",
       "      <td>...</td>\n",
       "      <td>...</td>\n",
       "      <td>...</td>\n",
       "      <td>...</td>\n",
       "      <td>...</td>\n",
       "      <td>...</td>\n",
       "      <td>...</td>\n",
       "      <td>...</td>\n",
       "      <td>...</td>\n",
       "      <td>...</td>\n",
       "      <td>...</td>\n",
       "      <td>...</td>\n",
       "      <td>...</td>\n",
       "      <td>...</td>\n",
       "      <td>...</td>\n",
       "      <td>...</td>\n",
       "      <td>...</td>\n",
       "      <td>...</td>\n",
       "      <td>...</td>\n",
       "    </tr>\n",
       "    <tr>\n",
       "      <th>99378</th>\n",
       "      <td>69</td>\n",
       "      <td>11</td>\n",
       "      <td>107</td>\n",
       "      <td>0</td>\n",
       "      <td>271</td>\n",
       "      <td>23.127273</td>\n",
       "      <td>14.436392</td>\n",
       "      <td>0.109091</td>\n",
       "      <td>0.685099</td>\n",
       "      <td>6.872727</td>\n",
       "      <td>...</td>\n",
       "      <td>0.581818</td>\n",
       "      <td>0.497807</td>\n",
       "      <td>6.890909</td>\n",
       "      <td>3.828126</td>\n",
       "      <td>783.418182</td>\n",
       "      <td>923.397424</td>\n",
       "      <td>90.272727</td>\n",
       "      <td>110.477491</td>\n",
       "      <td>55</td>\n",
       "      <td>0.202952</td>\n",
       "    </tr>\n",
       "    <tr>\n",
       "      <th>99379</th>\n",
       "      <td>63</td>\n",
       "      <td>11</td>\n",
       "      <td>312</td>\n",
       "      <td>1</td>\n",
       "      <td>278</td>\n",
       "      <td>11.000000</td>\n",
       "      <td>0.000000</td>\n",
       "      <td>0.000000</td>\n",
       "      <td>0.000000</td>\n",
       "      <td>6.282051</td>\n",
       "      <td>...</td>\n",
       "      <td>1.000000</td>\n",
       "      <td>0.000000</td>\n",
       "      <td>6.435897</td>\n",
       "      <td>3.234639</td>\n",
       "      <td>161.692308</td>\n",
       "      <td>82.672516</td>\n",
       "      <td>127.794872</td>\n",
       "      <td>61.458235</td>\n",
       "      <td>39</td>\n",
       "      <td>0.140288</td>\n",
       "    </tr>\n",
       "    <tr>\n",
       "      <th>99380</th>\n",
       "      <td>62</td>\n",
       "      <td>11</td>\n",
       "      <td>303</td>\n",
       "      <td>0</td>\n",
       "      <td>60</td>\n",
       "      <td>25.000000</td>\n",
       "      <td>15.434873</td>\n",
       "      <td>0.000000</td>\n",
       "      <td>0.000000</td>\n",
       "      <td>8.277778</td>\n",
       "      <td>...</td>\n",
       "      <td>0.500000</td>\n",
       "      <td>0.514496</td>\n",
       "      <td>7.777778</td>\n",
       "      <td>2.901431</td>\n",
       "      <td>544.444444</td>\n",
       "      <td>521.970838</td>\n",
       "      <td>64.444444</td>\n",
       "      <td>110.764840</td>\n",
       "      <td>18</td>\n",
       "      <td>0.300000</td>\n",
       "    </tr>\n",
       "    <tr>\n",
       "      <th>99381</th>\n",
       "      <td>63</td>\n",
       "      <td>11</td>\n",
       "      <td>311</td>\n",
       "      <td>0</td>\n",
       "      <td>192</td>\n",
       "      <td>17.904762</td>\n",
       "      <td>12.656638</td>\n",
       "      <td>0.000000</td>\n",
       "      <td>0.000000</td>\n",
       "      <td>6.142857</td>\n",
       "      <td>...</td>\n",
       "      <td>0.761905</td>\n",
       "      <td>0.436436</td>\n",
       "      <td>6.809524</td>\n",
       "      <td>2.803909</td>\n",
       "      <td>319.571429</td>\n",
       "      <td>319.975870</td>\n",
       "      <td>118.000000</td>\n",
       "      <td>139.089899</td>\n",
       "      <td>21</td>\n",
       "      <td>0.109375</td>\n",
       "    </tr>\n",
       "    <tr>\n",
       "      <th>99382</th>\n",
       "      <td>63</td>\n",
       "      <td>11</td>\n",
       "      <td>313</td>\n",
       "      <td>0</td>\n",
       "      <td>123</td>\n",
       "      <td>11.000000</td>\n",
       "      <td>0.000000</td>\n",
       "      <td>0.000000</td>\n",
       "      <td>0.000000</td>\n",
       "      <td>7.714286</td>\n",
       "      <td>...</td>\n",
       "      <td>1.000000</td>\n",
       "      <td>0.000000</td>\n",
       "      <td>4.857143</td>\n",
       "      <td>2.851643</td>\n",
       "      <td>345.214286</td>\n",
       "      <td>239.087103</td>\n",
       "      <td>148.500000</td>\n",
       "      <td>93.712941</td>\n",
       "      <td>14</td>\n",
       "      <td>0.113821</td>\n",
       "    </tr>\n",
       "  </tbody>\n",
       "</table>\n",
       "<p>99383 rows × 31 columns</p>\n",
       "</div>"
      ],
      "text/plain": [
       "       disrict  client_catg  region  target  coop_time  tarif_type_mean  \\\n",
       "0           60           11     101       0        312        11.000000   \n",
       "1           69           11     107       0        223        11.000000   \n",
       "2           62           11     301       0        417        11.000000   \n",
       "3           69           11     105       0        289        11.000000   \n",
       "4           62           11     303       0         74        11.000000   \n",
       "...        ...          ...     ...     ...        ...              ...   \n",
       "99378       69           11     107       0        271        23.127273   \n",
       "99379       63           11     312       1        278        11.000000   \n",
       "99380       62           11     303       0         60        25.000000   \n",
       "99381       63           11     311       0        192        17.904762   \n",
       "99382       63           11     313       0        123        11.000000   \n",
       "\n",
       "       tarif_type_std  counter_statue_mean  counter_statue_std  \\\n",
       "0            0.000000             0.000000            0.000000   \n",
       "1            0.000000             0.000000            0.000000   \n",
       "2            0.000000             0.000000            0.000000   \n",
       "3            0.000000             0.000000            0.000000   \n",
       "4            0.000000             0.000000            0.000000   \n",
       "...               ...                  ...                 ...   \n",
       "99378       14.436392             0.109091            0.685099   \n",
       "99379        0.000000             0.000000            0.000000   \n",
       "99380       15.434873             0.000000            0.000000   \n",
       "99381       12.656638             0.000000            0.000000   \n",
       "99382        0.000000             0.000000            0.000000   \n",
       "\n",
       "       reading_remarque_mean  ...  counter_type_mean  counter_type_std  \\\n",
       "0                   6.971429  ...           1.000000          0.000000   \n",
       "1                   7.216216  ...           1.000000          0.000000   \n",
       "2                   7.055556  ...           1.000000          0.000000   \n",
       "3                   6.150000  ...           1.000000          0.000000   \n",
       "4                   8.857143  ...           1.000000          0.000000   \n",
       "...                      ...  ...                ...               ...   \n",
       "99378               6.872727  ...           0.581818          0.497807   \n",
       "99379               6.282051  ...           1.000000          0.000000   \n",
       "99380               8.277778  ...           0.500000          0.514496   \n",
       "99381               6.142857  ...           0.761905          0.436436   \n",
       "99382               7.714286  ...           1.000000          0.000000   \n",
       "\n",
       "       invoice_month_mean  invoice_month_std  delta_index_mean  \\\n",
       "0                6.685714           3.587326        362.971429   \n",
       "1                5.135135           3.128384        557.540541   \n",
       "2                6.611111           3.292396        836.500000   \n",
       "3                5.550000           3.203206          1.200000   \n",
       "4                7.571429           3.390355        922.642857   \n",
       "...                   ...                ...               ...   \n",
       "99378            6.890909           3.828126        783.418182   \n",
       "99379            6.435897           3.234639        161.692308   \n",
       "99380            7.777778           2.901431        544.444444   \n",
       "99381            6.809524           2.803909        319.571429   \n",
       "99382            4.857143           2.851643        345.214286   \n",
       "\n",
       "       delta_index_std  delta_time_mean  delta_time_std  transactions_count  \\\n",
       "0           341.553930       140.028571       89.676702                  35   \n",
       "1           197.935960       132.783784       93.917853                  37   \n",
       "2           646.808386       273.388889      252.605281                  18   \n",
       "3             3.607011       133.200000       98.162379                  20   \n",
       "4           633.485669       113.214286       83.534588                  14   \n",
       "...                ...              ...             ...                 ...   \n",
       "99378       923.397424        90.272727      110.477491                  55   \n",
       "99379        82.672516       127.794872       61.458235                  39   \n",
       "99380       521.970838        64.444444      110.764840                  18   \n",
       "99381       319.975870       118.000000      139.089899                  21   \n",
       "99382       239.087103       148.500000       93.712941                  14   \n",
       "\n",
       "       invoice_per_cooperation  \n",
       "0                     0.112179  \n",
       "1                     0.165919  \n",
       "2                     0.043165  \n",
       "3                     0.069204  \n",
       "4                     0.189189  \n",
       "...                        ...  \n",
       "99378                 0.202952  \n",
       "99379                 0.140288  \n",
       "99380                 0.300000  \n",
       "99381                 0.109375  \n",
       "99382                 0.113821  \n",
       "\n",
       "[99383 rows x 31 columns]"
      ]
     },
     "execution_count": 267,
     "metadata": {},
     "output_type": "execute_result"
    }
   ],
   "source": [
    "full_df"
   ]
  },
  {
   "cell_type": "code",
   "execution_count": null,
   "metadata": {},
   "outputs": [],
   "source": []
  }
 ],
 "metadata": {
  "kernelspec": {
   "display_name": "Python 3",
   "language": "python",
   "name": "python3"
  },
  "language_info": {
   "codemirror_mode": {
    "name": "ipython",
    "version": 3
   },
   "file_extension": ".py",
   "mimetype": "text/x-python",
   "name": "python",
   "nbconvert_exporter": "python",
   "pygments_lexer": "ipython3",
   "version": "3.8.5"
  }
 },
 "nbformat": 4,
 "nbformat_minor": 4
}
