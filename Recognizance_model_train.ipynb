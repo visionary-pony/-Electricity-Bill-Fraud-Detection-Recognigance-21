{
 "cells": [
  {
   "cell_type": "code",
   "execution_count": 24,
   "metadata": {},
   "outputs": [],
   "source": [
    "import pandas as pd\n",
    "import numpy as np \n",
    "import matplotlib.pyplot as plt\n",
    "from sklearn.decomposition import PCA\n",
    "from sklearn.neural_network import MLPClassifier\n",
    "from sklearn.neural_network import MLPRegressor\n",
    "from sklearn.model_selection import train_test_split\n",
    "from sklearn.preprocessing import StandardScaler\n",
    "from sklearn.preprocessing import MinMaxScaler\n",
    "from sklearn.ensemble import RandomForestClassifier\n",
    "from sklearn.metrics import mean_squared_error\n",
    "from sklearn.metrics import confusion_matrix\n",
    "from sklearn.metrics import f1_score\n",
    "from sklearn.metrics import accuracy_score\n",
    "from sklearn.metrics import roc_auc_score\n",
    "from tensorflow.keras.models import Sequential\n",
    "from tensorflow.keras.layers import Activation, Dense\n",
    "from tensorflow.keras.optimizers import Adam\n",
    "from tensorflow.keras.metrics import categorical_crossentropy"
   ]
  },
  {
   "cell_type": "code",
   "execution_count": 2,
   "metadata": {},
   "outputs": [],
   "source": [
    "x_train = pd.read_csv(\"first_reconizance_part1_train.csv\")"
   ]
  },
  {
   "cell_type": "code",
   "execution_count": 3,
   "metadata": {},
   "outputs": [],
   "source": [
    "x_test = pd.read_csv(\"first_reconizance_part1_test.csv\")"
   ]
  },
  {
   "cell_type": "code",
   "execution_count": 4,
   "metadata": {},
   "outputs": [
    {
     "data": {
      "text/plain": [
       "Index(['Unnamed: 0', 'disrict', 'client_catg', 'region', 'target', 'coop_time',\n",
       "       'tarif_type_mean', 'tarif_type_std', 'counter_statue_mean',\n",
       "       'counter_statue_std', 'reading_remarque_mean', 'reading_remarque_std',\n",
       "       'counter_coefficient_mean', 'counter_coefficient_std',\n",
       "       'consommation_level_1_mean', 'consommation_level_1_std',\n",
       "       'consommation_level_2_mean', 'consommation_level_2_std',\n",
       "       'consommation_level_3_mean', 'consommation_level_3_std',\n",
       "       'months_number_mean', 'months_number_std', 'counter_type_mean',\n",
       "       'counter_type_std', 'invoice_month_mean', 'invoice_month_std',\n",
       "       'delta_index_mean', 'delta_index_std', 'delta_time_mean',\n",
       "       'delta_time_std', 'transactions_count', 'invoice_per_cooperation'],\n",
       "      dtype='object')"
      ]
     },
     "execution_count": 4,
     "metadata": {},
     "output_type": "execute_result"
    }
   ],
   "source": [
    "x_train.columns"
   ]
  },
  {
   "cell_type": "code",
   "execution_count": 5,
   "metadata": {},
   "outputs": [
    {
     "data": {
      "text/html": [
       "<div>\n",
       "<style scoped>\n",
       "    .dataframe tbody tr th:only-of-type {\n",
       "        vertical-align: middle;\n",
       "    }\n",
       "\n",
       "    .dataframe tbody tr th {\n",
       "        vertical-align: top;\n",
       "    }\n",
       "\n",
       "    .dataframe thead th {\n",
       "        text-align: right;\n",
       "    }\n",
       "</style>\n",
       "<table border=\"1\" class=\"dataframe\">\n",
       "  <thead>\n",
       "    <tr style=\"text-align: right;\">\n",
       "      <th></th>\n",
       "      <th>Unnamed: 0</th>\n",
       "      <th>disrict</th>\n",
       "      <th>client_catg</th>\n",
       "      <th>region</th>\n",
       "      <th>target</th>\n",
       "      <th>coop_time</th>\n",
       "      <th>tarif_type_mean</th>\n",
       "      <th>tarif_type_std</th>\n",
       "      <th>counter_statue_mean</th>\n",
       "      <th>counter_statue_std</th>\n",
       "      <th>...</th>\n",
       "      <th>counter_type_mean</th>\n",
       "      <th>counter_type_std</th>\n",
       "      <th>invoice_month_mean</th>\n",
       "      <th>invoice_month_std</th>\n",
       "      <th>delta_index_mean</th>\n",
       "      <th>delta_index_std</th>\n",
       "      <th>delta_time_mean</th>\n",
       "      <th>delta_time_std</th>\n",
       "      <th>transactions_count</th>\n",
       "      <th>invoice_per_cooperation</th>\n",
       "    </tr>\n",
       "  </thead>\n",
       "  <tbody>\n",
       "    <tr>\n",
       "      <th>0</th>\n",
       "      <td>0</td>\n",
       "      <td>60</td>\n",
       "      <td>11</td>\n",
       "      <td>101</td>\n",
       "      <td>0</td>\n",
       "      <td>312</td>\n",
       "      <td>11.0</td>\n",
       "      <td>0.0</td>\n",
       "      <td>0.0</td>\n",
       "      <td>0.0</td>\n",
       "      <td>...</td>\n",
       "      <td>1.0</td>\n",
       "      <td>0.0</td>\n",
       "      <td>6.685714</td>\n",
       "      <td>3.587326</td>\n",
       "      <td>362.971429</td>\n",
       "      <td>341.553930</td>\n",
       "      <td>140.028571</td>\n",
       "      <td>89.676702</td>\n",
       "      <td>35</td>\n",
       "      <td>0.112179</td>\n",
       "    </tr>\n",
       "    <tr>\n",
       "      <th>1</th>\n",
       "      <td>1</td>\n",
       "      <td>69</td>\n",
       "      <td>11</td>\n",
       "      <td>107</td>\n",
       "      <td>0</td>\n",
       "      <td>223</td>\n",
       "      <td>11.0</td>\n",
       "      <td>0.0</td>\n",
       "      <td>0.0</td>\n",
       "      <td>0.0</td>\n",
       "      <td>...</td>\n",
       "      <td>1.0</td>\n",
       "      <td>0.0</td>\n",
       "      <td>5.135135</td>\n",
       "      <td>3.128384</td>\n",
       "      <td>557.540541</td>\n",
       "      <td>197.935960</td>\n",
       "      <td>132.783784</td>\n",
       "      <td>93.917853</td>\n",
       "      <td>37</td>\n",
       "      <td>0.165919</td>\n",
       "    </tr>\n",
       "    <tr>\n",
       "      <th>2</th>\n",
       "      <td>2</td>\n",
       "      <td>62</td>\n",
       "      <td>11</td>\n",
       "      <td>301</td>\n",
       "      <td>0</td>\n",
       "      <td>417</td>\n",
       "      <td>11.0</td>\n",
       "      <td>0.0</td>\n",
       "      <td>0.0</td>\n",
       "      <td>0.0</td>\n",
       "      <td>...</td>\n",
       "      <td>1.0</td>\n",
       "      <td>0.0</td>\n",
       "      <td>6.611111</td>\n",
       "      <td>3.292396</td>\n",
       "      <td>836.500000</td>\n",
       "      <td>646.808386</td>\n",
       "      <td>273.388889</td>\n",
       "      <td>252.605281</td>\n",
       "      <td>18</td>\n",
       "      <td>0.043165</td>\n",
       "    </tr>\n",
       "    <tr>\n",
       "      <th>3</th>\n",
       "      <td>3</td>\n",
       "      <td>69</td>\n",
       "      <td>11</td>\n",
       "      <td>105</td>\n",
       "      <td>0</td>\n",
       "      <td>289</td>\n",
       "      <td>11.0</td>\n",
       "      <td>0.0</td>\n",
       "      <td>0.0</td>\n",
       "      <td>0.0</td>\n",
       "      <td>...</td>\n",
       "      <td>1.0</td>\n",
       "      <td>0.0</td>\n",
       "      <td>5.550000</td>\n",
       "      <td>3.203206</td>\n",
       "      <td>1.200000</td>\n",
       "      <td>3.607011</td>\n",
       "      <td>133.200000</td>\n",
       "      <td>98.162379</td>\n",
       "      <td>20</td>\n",
       "      <td>0.069204</td>\n",
       "    </tr>\n",
       "    <tr>\n",
       "      <th>4</th>\n",
       "      <td>4</td>\n",
       "      <td>62</td>\n",
       "      <td>11</td>\n",
       "      <td>303</td>\n",
       "      <td>0</td>\n",
       "      <td>74</td>\n",
       "      <td>11.0</td>\n",
       "      <td>0.0</td>\n",
       "      <td>0.0</td>\n",
       "      <td>0.0</td>\n",
       "      <td>...</td>\n",
       "      <td>1.0</td>\n",
       "      <td>0.0</td>\n",
       "      <td>7.571429</td>\n",
       "      <td>3.390355</td>\n",
       "      <td>922.642857</td>\n",
       "      <td>633.485669</td>\n",
       "      <td>113.214286</td>\n",
       "      <td>83.534588</td>\n",
       "      <td>14</td>\n",
       "      <td>0.189189</td>\n",
       "    </tr>\n",
       "  </tbody>\n",
       "</table>\n",
       "<p>5 rows × 32 columns</p>\n",
       "</div>"
      ],
      "text/plain": [
       "   Unnamed: 0  disrict  client_catg  region  target  coop_time  \\\n",
       "0           0       60           11     101       0        312   \n",
       "1           1       69           11     107       0        223   \n",
       "2           2       62           11     301       0        417   \n",
       "3           3       69           11     105       0        289   \n",
       "4           4       62           11     303       0         74   \n",
       "\n",
       "   tarif_type_mean  tarif_type_std  counter_statue_mean  counter_statue_std  \\\n",
       "0             11.0             0.0                  0.0                 0.0   \n",
       "1             11.0             0.0                  0.0                 0.0   \n",
       "2             11.0             0.0                  0.0                 0.0   \n",
       "3             11.0             0.0                  0.0                 0.0   \n",
       "4             11.0             0.0                  0.0                 0.0   \n",
       "\n",
       "   ...  counter_type_mean  counter_type_std  invoice_month_mean  \\\n",
       "0  ...                1.0               0.0            6.685714   \n",
       "1  ...                1.0               0.0            5.135135   \n",
       "2  ...                1.0               0.0            6.611111   \n",
       "3  ...                1.0               0.0            5.550000   \n",
       "4  ...                1.0               0.0            7.571429   \n",
       "\n",
       "   invoice_month_std  delta_index_mean  delta_index_std  delta_time_mean  \\\n",
       "0           3.587326        362.971429       341.553930       140.028571   \n",
       "1           3.128384        557.540541       197.935960       132.783784   \n",
       "2           3.292396        836.500000       646.808386       273.388889   \n",
       "3           3.203206          1.200000         3.607011       133.200000   \n",
       "4           3.390355        922.642857       633.485669       113.214286   \n",
       "\n",
       "   delta_time_std  transactions_count  invoice_per_cooperation  \n",
       "0       89.676702                  35                 0.112179  \n",
       "1       93.917853                  37                 0.165919  \n",
       "2      252.605281                  18                 0.043165  \n",
       "3       98.162379                  20                 0.069204  \n",
       "4       83.534588                  14                 0.189189  \n",
       "\n",
       "[5 rows x 32 columns]"
      ]
     },
     "execution_count": 5,
     "metadata": {},
     "output_type": "execute_result"
    }
   ],
   "source": [
    "x_train.head()"
   ]
  },
  {
   "cell_type": "code",
   "execution_count": 6,
   "metadata": {},
   "outputs": [
    {
     "data": {
      "text/html": [
       "<div>\n",
       "<style scoped>\n",
       "    .dataframe tbody tr th:only-of-type {\n",
       "        vertical-align: middle;\n",
       "    }\n",
       "\n",
       "    .dataframe tbody tr th {\n",
       "        vertical-align: top;\n",
       "    }\n",
       "\n",
       "    .dataframe thead th {\n",
       "        text-align: right;\n",
       "    }\n",
       "</style>\n",
       "<table border=\"1\" class=\"dataframe\">\n",
       "  <thead>\n",
       "    <tr style=\"text-align: right;\">\n",
       "      <th></th>\n",
       "      <th>Unnamed: 0</th>\n",
       "      <th>disrict</th>\n",
       "      <th>client_catg</th>\n",
       "      <th>region</th>\n",
       "      <th>target</th>\n",
       "      <th>coop_time</th>\n",
       "      <th>tarif_type_mean</th>\n",
       "      <th>tarif_type_std</th>\n",
       "      <th>counter_statue_mean</th>\n",
       "      <th>counter_statue_std</th>\n",
       "      <th>...</th>\n",
       "      <th>counter_type_mean</th>\n",
       "      <th>counter_type_std</th>\n",
       "      <th>invoice_month_mean</th>\n",
       "      <th>invoice_month_std</th>\n",
       "      <th>delta_index_mean</th>\n",
       "      <th>delta_index_std</th>\n",
       "      <th>delta_time_mean</th>\n",
       "      <th>delta_time_std</th>\n",
       "      <th>transactions_count</th>\n",
       "      <th>invoice_per_cooperation</th>\n",
       "    </tr>\n",
       "  </thead>\n",
       "  <tbody>\n",
       "    <tr>\n",
       "      <th>0</th>\n",
       "      <td>0</td>\n",
       "      <td>60</td>\n",
       "      <td>11</td>\n",
       "      <td>101</td>\n",
       "      <td>0</td>\n",
       "      <td>312</td>\n",
       "      <td>11.0</td>\n",
       "      <td>0.0</td>\n",
       "      <td>0.0</td>\n",
       "      <td>0.0</td>\n",
       "      <td>...</td>\n",
       "      <td>1.0</td>\n",
       "      <td>0.0</td>\n",
       "      <td>6.685714</td>\n",
       "      <td>3.587326</td>\n",
       "      <td>362.971429</td>\n",
       "      <td>341.553930</td>\n",
       "      <td>140.028571</td>\n",
       "      <td>89.676702</td>\n",
       "      <td>35</td>\n",
       "      <td>0.112179</td>\n",
       "    </tr>\n",
       "    <tr>\n",
       "      <th>1</th>\n",
       "      <td>1</td>\n",
       "      <td>69</td>\n",
       "      <td>11</td>\n",
       "      <td>107</td>\n",
       "      <td>0</td>\n",
       "      <td>223</td>\n",
       "      <td>11.0</td>\n",
       "      <td>0.0</td>\n",
       "      <td>0.0</td>\n",
       "      <td>0.0</td>\n",
       "      <td>...</td>\n",
       "      <td>1.0</td>\n",
       "      <td>0.0</td>\n",
       "      <td>5.135135</td>\n",
       "      <td>3.128384</td>\n",
       "      <td>557.540541</td>\n",
       "      <td>197.935960</td>\n",
       "      <td>132.783784</td>\n",
       "      <td>93.917853</td>\n",
       "      <td>37</td>\n",
       "      <td>0.165919</td>\n",
       "    </tr>\n",
       "    <tr>\n",
       "      <th>2</th>\n",
       "      <td>2</td>\n",
       "      <td>62</td>\n",
       "      <td>11</td>\n",
       "      <td>301</td>\n",
       "      <td>0</td>\n",
       "      <td>417</td>\n",
       "      <td>11.0</td>\n",
       "      <td>0.0</td>\n",
       "      <td>0.0</td>\n",
       "      <td>0.0</td>\n",
       "      <td>...</td>\n",
       "      <td>1.0</td>\n",
       "      <td>0.0</td>\n",
       "      <td>6.611111</td>\n",
       "      <td>3.292396</td>\n",
       "      <td>836.500000</td>\n",
       "      <td>646.808386</td>\n",
       "      <td>273.388889</td>\n",
       "      <td>252.605281</td>\n",
       "      <td>18</td>\n",
       "      <td>0.043165</td>\n",
       "    </tr>\n",
       "    <tr>\n",
       "      <th>3</th>\n",
       "      <td>3</td>\n",
       "      <td>69</td>\n",
       "      <td>11</td>\n",
       "      <td>105</td>\n",
       "      <td>0</td>\n",
       "      <td>289</td>\n",
       "      <td>11.0</td>\n",
       "      <td>0.0</td>\n",
       "      <td>0.0</td>\n",
       "      <td>0.0</td>\n",
       "      <td>...</td>\n",
       "      <td>1.0</td>\n",
       "      <td>0.0</td>\n",
       "      <td>5.550000</td>\n",
       "      <td>3.203206</td>\n",
       "      <td>1.200000</td>\n",
       "      <td>3.607011</td>\n",
       "      <td>133.200000</td>\n",
       "      <td>98.162379</td>\n",
       "      <td>20</td>\n",
       "      <td>0.069204</td>\n",
       "    </tr>\n",
       "    <tr>\n",
       "      <th>4</th>\n",
       "      <td>4</td>\n",
       "      <td>62</td>\n",
       "      <td>11</td>\n",
       "      <td>303</td>\n",
       "      <td>0</td>\n",
       "      <td>74</td>\n",
       "      <td>11.0</td>\n",
       "      <td>0.0</td>\n",
       "      <td>0.0</td>\n",
       "      <td>0.0</td>\n",
       "      <td>...</td>\n",
       "      <td>1.0</td>\n",
       "      <td>0.0</td>\n",
       "      <td>7.571429</td>\n",
       "      <td>3.390355</td>\n",
       "      <td>922.642857</td>\n",
       "      <td>633.485669</td>\n",
       "      <td>113.214286</td>\n",
       "      <td>83.534588</td>\n",
       "      <td>14</td>\n",
       "      <td>0.189189</td>\n",
       "    </tr>\n",
       "  </tbody>\n",
       "</table>\n",
       "<p>5 rows × 32 columns</p>\n",
       "</div>"
      ],
      "text/plain": [
       "   Unnamed: 0  disrict  client_catg  region  target  coop_time  \\\n",
       "0           0       60           11     101       0        312   \n",
       "1           1       69           11     107       0        223   \n",
       "2           2       62           11     301       0        417   \n",
       "3           3       69           11     105       0        289   \n",
       "4           4       62           11     303       0         74   \n",
       "\n",
       "   tarif_type_mean  tarif_type_std  counter_statue_mean  counter_statue_std  \\\n",
       "0             11.0             0.0                  0.0                 0.0   \n",
       "1             11.0             0.0                  0.0                 0.0   \n",
       "2             11.0             0.0                  0.0                 0.0   \n",
       "3             11.0             0.0                  0.0                 0.0   \n",
       "4             11.0             0.0                  0.0                 0.0   \n",
       "\n",
       "   ...  counter_type_mean  counter_type_std  invoice_month_mean  \\\n",
       "0  ...                1.0               0.0            6.685714   \n",
       "1  ...                1.0               0.0            5.135135   \n",
       "2  ...                1.0               0.0            6.611111   \n",
       "3  ...                1.0               0.0            5.550000   \n",
       "4  ...                1.0               0.0            7.571429   \n",
       "\n",
       "   invoice_month_std  delta_index_mean  delta_index_std  delta_time_mean  \\\n",
       "0           3.587326        362.971429       341.553930       140.028571   \n",
       "1           3.128384        557.540541       197.935960       132.783784   \n",
       "2           3.292396        836.500000       646.808386       273.388889   \n",
       "3           3.203206          1.200000         3.607011       133.200000   \n",
       "4           3.390355        922.642857       633.485669       113.214286   \n",
       "\n",
       "   delta_time_std  transactions_count  invoice_per_cooperation  \n",
       "0       89.676702                  35                 0.112179  \n",
       "1       93.917853                  37                 0.165919  \n",
       "2      252.605281                  18                 0.043165  \n",
       "3       98.162379                  20                 0.069204  \n",
       "4       83.534588                  14                 0.189189  \n",
       "\n",
       "[5 rows x 32 columns]"
      ]
     },
     "execution_count": 6,
     "metadata": {},
     "output_type": "execute_result"
    }
   ],
   "source": [
    "x_train.head()"
   ]
  },
  {
   "cell_type": "code",
   "execution_count": 7,
   "metadata": {},
   "outputs": [],
   "source": [
    "x_train = x_train.drop(columns = ['Unnamed: 0'])"
   ]
  },
  {
   "cell_type": "code",
   "execution_count": 8,
   "metadata": {},
   "outputs": [],
   "source": [
    "x_test = x_test.drop(columns = 'Unnamed: 0')"
   ]
  },
  {
   "cell_type": "code",
   "execution_count": 9,
   "metadata": {},
   "outputs": [],
   "source": [
    "cilent_id = x_test[\"client_id\"]"
   ]
  },
  {
   "cell_type": "code",
   "execution_count": 10,
   "metadata": {},
   "outputs": [],
   "source": [
    "x_test = x_test.drop(columns = 'client_id')"
   ]
  },
  {
   "cell_type": "code",
   "execution_count": 11,
   "metadata": {},
   "outputs": [
    {
     "data": {
      "text/plain": [
       "Index(['disrict', 'client_catg', 'region', 'target', 'coop_time',\n",
       "       'tarif_type_mean', 'tarif_type_std', 'counter_statue_mean',\n",
       "       'counter_statue_std', 'reading_remarque_mean', 'reading_remarque_std',\n",
       "       'counter_coefficient_mean', 'counter_coefficient_std',\n",
       "       'consommation_level_1_mean', 'consommation_level_1_std',\n",
       "       'consommation_level_2_mean', 'consommation_level_2_std',\n",
       "       'consommation_level_3_mean', 'consommation_level_3_std',\n",
       "       'months_number_mean', 'months_number_std', 'counter_type_mean',\n",
       "       'counter_type_std', 'invoice_month_mean', 'invoice_month_std',\n",
       "       'delta_index_mean', 'delta_index_std', 'delta_time_mean',\n",
       "       'delta_time_std', 'transactions_count', 'invoice_per_cooperation'],\n",
       "      dtype='object')"
      ]
     },
     "execution_count": 11,
     "metadata": {},
     "output_type": "execute_result"
    }
   ],
   "source": [
    "x_train.columns"
   ]
  },
  {
   "cell_type": "code",
   "execution_count": 12,
   "metadata": {},
   "outputs": [],
   "source": [
    "for i in x_train.columns:\n",
    "    factor = 5\n",
    "    upper_lim = x_train[i].mean()+ x_train[i].std()*factor\n",
    "    lower_lim = x_train[i].mean() - x_train[i].std()*factor\n",
    "    x_train = x_train[(x_train[i]<upper_lim) & (x_train[i]>lower_lim)]"
   ]
  },
  {
   "cell_type": "code",
   "execution_count": 13,
   "metadata": {},
   "outputs": [],
   "source": [
    "y_train = x_train[\"target\"]"
   ]
  },
  {
   "cell_type": "code",
   "execution_count": 14,
   "metadata": {},
   "outputs": [],
   "source": [
    "x_train = x_train.drop(columns = \"target\")"
   ]
  },
  {
   "cell_type": "code",
   "execution_count": 15,
   "metadata": {},
   "outputs": [
    {
     "data": {
      "text/html": [
       "<div>\n",
       "<style scoped>\n",
       "    .dataframe tbody tr th:only-of-type {\n",
       "        vertical-align: middle;\n",
       "    }\n",
       "\n",
       "    .dataframe tbody tr th {\n",
       "        vertical-align: top;\n",
       "    }\n",
       "\n",
       "    .dataframe thead th {\n",
       "        text-align: right;\n",
       "    }\n",
       "</style>\n",
       "<table border=\"1\" class=\"dataframe\">\n",
       "  <thead>\n",
       "    <tr style=\"text-align: right;\">\n",
       "      <th></th>\n",
       "      <th>disrict</th>\n",
       "      <th>client_catg</th>\n",
       "      <th>region</th>\n",
       "      <th>coop_time</th>\n",
       "      <th>tarif_type_mean</th>\n",
       "      <th>tarif_type_std</th>\n",
       "      <th>counter_statue_mean</th>\n",
       "      <th>counter_statue_std</th>\n",
       "      <th>reading_remarque_mean</th>\n",
       "      <th>reading_remarque_std</th>\n",
       "      <th>...</th>\n",
       "      <th>counter_type_mean</th>\n",
       "      <th>counter_type_std</th>\n",
       "      <th>invoice_month_mean</th>\n",
       "      <th>invoice_month_std</th>\n",
       "      <th>delta_index_mean</th>\n",
       "      <th>delta_index_std</th>\n",
       "      <th>delta_time_mean</th>\n",
       "      <th>delta_time_std</th>\n",
       "      <th>transactions_count</th>\n",
       "      <th>invoice_per_cooperation</th>\n",
       "    </tr>\n",
       "  </thead>\n",
       "  <tbody>\n",
       "    <tr>\n",
       "      <th>0</th>\n",
       "      <td>60</td>\n",
       "      <td>11</td>\n",
       "      <td>101</td>\n",
       "      <td>312</td>\n",
       "      <td>11.0</td>\n",
       "      <td>0.0</td>\n",
       "      <td>0.0</td>\n",
       "      <td>0.0</td>\n",
       "      <td>6.971429</td>\n",
       "      <td>1.248192</td>\n",
       "      <td>...</td>\n",
       "      <td>1.0</td>\n",
       "      <td>0.0</td>\n",
       "      <td>6.685714</td>\n",
       "      <td>3.587326</td>\n",
       "      <td>362.971429</td>\n",
       "      <td>341.553930</td>\n",
       "      <td>140.028571</td>\n",
       "      <td>89.676702</td>\n",
       "      <td>35</td>\n",
       "      <td>0.112179</td>\n",
       "    </tr>\n",
       "    <tr>\n",
       "      <th>1</th>\n",
       "      <td>69</td>\n",
       "      <td>11</td>\n",
       "      <td>107</td>\n",
       "      <td>223</td>\n",
       "      <td>11.0</td>\n",
       "      <td>0.0</td>\n",
       "      <td>0.0</td>\n",
       "      <td>0.0</td>\n",
       "      <td>7.216216</td>\n",
       "      <td>1.377097</td>\n",
       "      <td>...</td>\n",
       "      <td>1.0</td>\n",
       "      <td>0.0</td>\n",
       "      <td>5.135135</td>\n",
       "      <td>3.128384</td>\n",
       "      <td>557.540541</td>\n",
       "      <td>197.935960</td>\n",
       "      <td>132.783784</td>\n",
       "      <td>93.917853</td>\n",
       "      <td>37</td>\n",
       "      <td>0.165919</td>\n",
       "    </tr>\n",
       "    <tr>\n",
       "      <th>2</th>\n",
       "      <td>62</td>\n",
       "      <td>11</td>\n",
       "      <td>301</td>\n",
       "      <td>417</td>\n",
       "      <td>11.0</td>\n",
       "      <td>0.0</td>\n",
       "      <td>0.0</td>\n",
       "      <td>0.0</td>\n",
       "      <td>7.055556</td>\n",
       "      <td>1.258955</td>\n",
       "      <td>...</td>\n",
       "      <td>1.0</td>\n",
       "      <td>0.0</td>\n",
       "      <td>6.611111</td>\n",
       "      <td>3.292396</td>\n",
       "      <td>836.500000</td>\n",
       "      <td>646.808386</td>\n",
       "      <td>273.388889</td>\n",
       "      <td>252.605281</td>\n",
       "      <td>18</td>\n",
       "      <td>0.043165</td>\n",
       "    </tr>\n",
       "    <tr>\n",
       "      <th>3</th>\n",
       "      <td>69</td>\n",
       "      <td>11</td>\n",
       "      <td>105</td>\n",
       "      <td>289</td>\n",
       "      <td>11.0</td>\n",
       "      <td>0.0</td>\n",
       "      <td>0.0</td>\n",
       "      <td>0.0</td>\n",
       "      <td>6.150000</td>\n",
       "      <td>0.670820</td>\n",
       "      <td>...</td>\n",
       "      <td>1.0</td>\n",
       "      <td>0.0</td>\n",
       "      <td>5.550000</td>\n",
       "      <td>3.203206</td>\n",
       "      <td>1.200000</td>\n",
       "      <td>3.607011</td>\n",
       "      <td>133.200000</td>\n",
       "      <td>98.162379</td>\n",
       "      <td>20</td>\n",
       "      <td>0.069204</td>\n",
       "    </tr>\n",
       "    <tr>\n",
       "      <th>4</th>\n",
       "      <td>62</td>\n",
       "      <td>11</td>\n",
       "      <td>303</td>\n",
       "      <td>74</td>\n",
       "      <td>11.0</td>\n",
       "      <td>0.0</td>\n",
       "      <td>0.0</td>\n",
       "      <td>0.0</td>\n",
       "      <td>8.857143</td>\n",
       "      <td>0.363137</td>\n",
       "      <td>...</td>\n",
       "      <td>1.0</td>\n",
       "      <td>0.0</td>\n",
       "      <td>7.571429</td>\n",
       "      <td>3.390355</td>\n",
       "      <td>922.642857</td>\n",
       "      <td>633.485669</td>\n",
       "      <td>113.214286</td>\n",
       "      <td>83.534588</td>\n",
       "      <td>14</td>\n",
       "      <td>0.189189</td>\n",
       "    </tr>\n",
       "  </tbody>\n",
       "</table>\n",
       "<p>5 rows × 30 columns</p>\n",
       "</div>"
      ],
      "text/plain": [
       "   disrict  client_catg  region  coop_time  tarif_type_mean  tarif_type_std  \\\n",
       "0       60           11     101        312             11.0             0.0   \n",
       "1       69           11     107        223             11.0             0.0   \n",
       "2       62           11     301        417             11.0             0.0   \n",
       "3       69           11     105        289             11.0             0.0   \n",
       "4       62           11     303         74             11.0             0.0   \n",
       "\n",
       "   counter_statue_mean  counter_statue_std  reading_remarque_mean  \\\n",
       "0                  0.0                 0.0               6.971429   \n",
       "1                  0.0                 0.0               7.216216   \n",
       "2                  0.0                 0.0               7.055556   \n",
       "3                  0.0                 0.0               6.150000   \n",
       "4                  0.0                 0.0               8.857143   \n",
       "\n",
       "   reading_remarque_std  ...  counter_type_mean  counter_type_std  \\\n",
       "0              1.248192  ...                1.0               0.0   \n",
       "1              1.377097  ...                1.0               0.0   \n",
       "2              1.258955  ...                1.0               0.0   \n",
       "3              0.670820  ...                1.0               0.0   \n",
       "4              0.363137  ...                1.0               0.0   \n",
       "\n",
       "   invoice_month_mean  invoice_month_std  delta_index_mean  delta_index_std  \\\n",
       "0            6.685714           3.587326        362.971429       341.553930   \n",
       "1            5.135135           3.128384        557.540541       197.935960   \n",
       "2            6.611111           3.292396        836.500000       646.808386   \n",
       "3            5.550000           3.203206          1.200000         3.607011   \n",
       "4            7.571429           3.390355        922.642857       633.485669   \n",
       "\n",
       "   delta_time_mean  delta_time_std  transactions_count  \\\n",
       "0       140.028571       89.676702                  35   \n",
       "1       132.783784       93.917853                  37   \n",
       "2       273.388889      252.605281                  18   \n",
       "3       133.200000       98.162379                  20   \n",
       "4       113.214286       83.534588                  14   \n",
       "\n",
       "   invoice_per_cooperation  \n",
       "0                 0.112179  \n",
       "1                 0.165919  \n",
       "2                 0.043165  \n",
       "3                 0.069204  \n",
       "4                 0.189189  \n",
       "\n",
       "[5 rows x 30 columns]"
      ]
     },
     "execution_count": 15,
     "metadata": {},
     "output_type": "execute_result"
    }
   ],
   "source": [
    "x_train.head()"
   ]
  },
  {
   "cell_type": "code",
   "execution_count": 16,
   "metadata": {},
   "outputs": [
    {
     "data": {
      "text/plain": [
       "StandardScaler()"
      ]
     },
     "execution_count": 16,
     "metadata": {},
     "output_type": "execute_result"
    }
   ],
   "source": [
    "scaler = StandardScaler()\n",
    "scaler.fit(x_train)"
   ]
  },
  {
   "cell_type": "code",
   "execution_count": 17,
   "metadata": {},
   "outputs": [],
   "source": [
    "x_test  = scaler.transform(x_test)\n",
    "x_train = scaler.transform(x_train)"
   ]
  },
  {
   "cell_type": "code",
   "execution_count": 18,
   "metadata": {},
   "outputs": [
    {
     "data": {
      "text/plain": [
       "(36110, 30)"
      ]
     },
     "execution_count": 18,
     "metadata": {},
     "output_type": "execute_result"
    }
   ],
   "source": [
    "x_test.shape"
   ]
  },
  {
   "cell_type": "code",
   "execution_count": 19,
   "metadata": {},
   "outputs": [],
   "source": [
    "pca = PCA(0.95)"
   ]
  },
  {
   "cell_type": "code",
   "execution_count": 20,
   "metadata": {},
   "outputs": [
    {
     "data": {
      "text/plain": [
       "PCA(n_components=0.95)"
      ]
     },
     "execution_count": 20,
     "metadata": {},
     "output_type": "execute_result"
    }
   ],
   "source": [
    "pca.fit(x_train)"
   ]
  },
  {
   "cell_type": "code",
   "execution_count": 21,
   "metadata": {},
   "outputs": [
    {
     "data": {
      "text/plain": [
       "18"
      ]
     },
     "execution_count": 21,
     "metadata": {},
     "output_type": "execute_result"
    }
   ],
   "source": [
    "pca.n_components_"
   ]
  },
  {
   "cell_type": "code",
   "execution_count": 22,
   "metadata": {},
   "outputs": [],
   "source": [
    "x_train = pca.transform(x_train)\n",
    "x_test = pca.transform(x_test)"
   ]
  },
  {
   "cell_type": "code",
   "execution_count": 39,
   "metadata": {},
   "outputs": [],
   "source": [
    "model = Sequential([Dense(units = 12,input_shape = (18,),activation = \"relu\"),\n",
    "                   Dense(units = 8,activation = \"relu\"),\n",
    "                   Dense(units = 1, activation = \"sigmoid\")]) "
   ]
  },
  {
   "cell_type": "code",
   "execution_count": 40,
   "metadata": {},
   "outputs": [],
   "source": [
    "model.compile(optimizer = Adam(learning_rate = 0.001),loss = \"binary_crossentropy\",metrics = [\"accuracy\"])"
   ]
  },
  {
   "cell_type": "code",
   "execution_count": 41,
   "metadata": {},
   "outputs": [
    {
     "name": "stdout",
     "output_type": "stream",
     "text": [
      "Epoch 1/100\n",
      "2619/2619 - 2s - loss: 0.2144 - accuracy: 0.9383 - val_loss: 0.1919 - val_accuracy: 0.9453\n",
      "Epoch 2/100\n",
      "2619/2619 - 1s - loss: 0.1900 - accuracy: 0.9457 - val_loss: 0.1895 - val_accuracy: 0.9453\n",
      "Epoch 3/100\n",
      "2619/2619 - 1s - loss: 0.1886 - accuracy: 0.9457 - val_loss: 0.1883 - val_accuracy: 0.9453\n",
      "Epoch 4/100\n",
      "2619/2619 - 1s - loss: 0.1876 - accuracy: 0.9457 - val_loss: 0.1888 - val_accuracy: 0.9453\n",
      "Epoch 5/100\n",
      "2619/2619 - 1s - loss: 0.1872 - accuracy: 0.9457 - val_loss: 0.1884 - val_accuracy: 0.9453\n",
      "Epoch 6/100\n",
      "2619/2619 - 1s - loss: 0.1866 - accuracy: 0.9457 - val_loss: 0.1883 - val_accuracy: 0.9453\n",
      "Epoch 7/100\n",
      "2619/2619 - 1s - loss: 0.1863 - accuracy: 0.9457 - val_loss: 0.1874 - val_accuracy: 0.9453\n",
      "Epoch 8/100\n",
      "2619/2619 - 1s - loss: 0.1861 - accuracy: 0.9457 - val_loss: 0.1883 - val_accuracy: 0.9453\n",
      "Epoch 9/100\n",
      "2619/2619 - 1s - loss: 0.1860 - accuracy: 0.9457 - val_loss: 0.1880 - val_accuracy: 0.9453\n",
      "Epoch 10/100\n",
      "2619/2619 - 1s - loss: 0.1857 - accuracy: 0.9457 - val_loss: 0.1876 - val_accuracy: 0.9453\n",
      "Epoch 11/100\n",
      "2619/2619 - 1s - loss: 0.1856 - accuracy: 0.9457 - val_loss: 0.1876 - val_accuracy: 0.9453\n",
      "Epoch 12/100\n",
      "2619/2619 - 1s - loss: 0.1853 - accuracy: 0.9457 - val_loss: 0.1870 - val_accuracy: 0.9453\n",
      "Epoch 13/100\n",
      "2619/2619 - 1s - loss: 0.1852 - accuracy: 0.9457 - val_loss: 0.1878 - val_accuracy: 0.9453\n",
      "Epoch 14/100\n",
      "2619/2619 - 1s - loss: 0.1851 - accuracy: 0.9457 - val_loss: 0.1874 - val_accuracy: 0.9453\n",
      "Epoch 15/100\n",
      "2619/2619 - 1s - loss: 0.1849 - accuracy: 0.9457 - val_loss: 0.1866 - val_accuracy: 0.9453\n",
      "Epoch 16/100\n",
      "2619/2619 - 1s - loss: 0.1846 - accuracy: 0.9457 - val_loss: 0.1867 - val_accuracy: 0.9452\n",
      "Epoch 17/100\n",
      "2619/2619 - 1s - loss: 0.1845 - accuracy: 0.9457 - val_loss: 0.1870 - val_accuracy: 0.9453\n",
      "Epoch 18/100\n",
      "2619/2619 - 1s - loss: 0.1844 - accuracy: 0.9457 - val_loss: 0.1869 - val_accuracy: 0.9453\n",
      "Epoch 19/100\n",
      "2619/2619 - 1s - loss: 0.1843 - accuracy: 0.9457 - val_loss: 0.1866 - val_accuracy: 0.9453\n",
      "Epoch 20/100\n",
      "2619/2619 - 1s - loss: 0.1843 - accuracy: 0.9457 - val_loss: 0.1872 - val_accuracy: 0.9453\n",
      "Epoch 21/100\n",
      "2619/2619 - 1s - loss: 0.1841 - accuracy: 0.9457 - val_loss: 0.1869 - val_accuracy: 0.9453\n",
      "Epoch 22/100\n",
      "2619/2619 - 1s - loss: 0.1841 - accuracy: 0.9457 - val_loss: 0.1875 - val_accuracy: 0.9453\n",
      "Epoch 23/100\n",
      "2619/2619 - 1s - loss: 0.1840 - accuracy: 0.9457 - val_loss: 0.1877 - val_accuracy: 0.9453\n",
      "Epoch 24/100\n",
      "2619/2619 - 1s - loss: 0.1839 - accuracy: 0.9457 - val_loss: 0.1862 - val_accuracy: 0.9452\n",
      "Epoch 25/100\n",
      "2619/2619 - 1s - loss: 0.1838 - accuracy: 0.9457 - val_loss: 0.1880 - val_accuracy: 0.9453\n",
      "Epoch 26/100\n",
      "2619/2619 - 1s - loss: 0.1838 - accuracy: 0.9457 - val_loss: 0.1867 - val_accuracy: 0.9453\n",
      "Epoch 27/100\n",
      "2619/2619 - 1s - loss: 0.1839 - accuracy: 0.9457 - val_loss: 0.1878 - val_accuracy: 0.9453\n",
      "Epoch 28/100\n",
      "2619/2619 - 1s - loss: 0.1837 - accuracy: 0.9457 - val_loss: 0.1873 - val_accuracy: 0.9453\n",
      "Epoch 29/100\n",
      "2619/2619 - 1s - loss: 0.1837 - accuracy: 0.9457 - val_loss: 0.1870 - val_accuracy: 0.9453\n",
      "Epoch 30/100\n",
      "2619/2619 - 1s - loss: 0.1836 - accuracy: 0.9457 - val_loss: 0.1882 - val_accuracy: 0.9453\n",
      "Epoch 31/100\n",
      "2619/2619 - 1s - loss: 0.1837 - accuracy: 0.9457 - val_loss: 0.1877 - val_accuracy: 0.9453\n",
      "Epoch 32/100\n",
      "2619/2619 - 1s - loss: 0.1835 - accuracy: 0.9457 - val_loss: 0.1869 - val_accuracy: 0.9453\n",
      "Epoch 33/100\n",
      "2619/2619 - 1s - loss: 0.1836 - accuracy: 0.9457 - val_loss: 0.1871 - val_accuracy: 0.9453\n",
      "Epoch 34/100\n",
      "2619/2619 - 1s - loss: 0.1834 - accuracy: 0.9457 - val_loss: 0.1871 - val_accuracy: 0.9453\n",
      "Epoch 35/100\n",
      "2619/2619 - 1s - loss: 0.1835 - accuracy: 0.9457 - val_loss: 0.1868 - val_accuracy: 0.9453\n",
      "Epoch 36/100\n",
      "2619/2619 - 1s - loss: 0.1834 - accuracy: 0.9457 - val_loss: 0.1880 - val_accuracy: 0.9453\n",
      "Epoch 37/100\n",
      "2619/2619 - 1s - loss: 0.1835 - accuracy: 0.9457 - val_loss: 0.1869 - val_accuracy: 0.9453\n",
      "Epoch 38/100\n",
      "2619/2619 - 1s - loss: 0.1834 - accuracy: 0.9457 - val_loss: 0.1868 - val_accuracy: 0.9453\n",
      "Epoch 39/100\n",
      "2619/2619 - 1s - loss: 0.1834 - accuracy: 0.9457 - val_loss: 0.1869 - val_accuracy: 0.9453\n",
      "Epoch 40/100\n",
      "2619/2619 - 1s - loss: 0.1833 - accuracy: 0.9457 - val_loss: 0.1865 - val_accuracy: 0.9453\n",
      "Epoch 41/100\n",
      "2619/2619 - 1s - loss: 0.1833 - accuracy: 0.9457 - val_loss: 0.1866 - val_accuracy: 0.9453\n",
      "Epoch 42/100\n",
      "2619/2619 - 1s - loss: 0.1832 - accuracy: 0.9457 - val_loss: 0.1869 - val_accuracy: 0.9453\n",
      "Epoch 43/100\n",
      "2619/2619 - 1s - loss: 0.1831 - accuracy: 0.9457 - val_loss: 0.1867 - val_accuracy: 0.9453\n",
      "Epoch 44/100\n",
      "2619/2619 - 1s - loss: 0.1832 - accuracy: 0.9457 - val_loss: 0.1869 - val_accuracy: 0.9453\n",
      "Epoch 45/100\n",
      "2619/2619 - 1s - loss: 0.1831 - accuracy: 0.9457 - val_loss: 0.1867 - val_accuracy: 0.9453\n",
      "Epoch 46/100\n",
      "2619/2619 - 1s - loss: 0.1832 - accuracy: 0.9457 - val_loss: 0.1869 - val_accuracy: 0.9453\n",
      "Epoch 47/100\n",
      "2619/2619 - 1s - loss: 0.1830 - accuracy: 0.9457 - val_loss: 0.1870 - val_accuracy: 0.9453\n",
      "Epoch 48/100\n",
      "2619/2619 - 1s - loss: 0.1831 - accuracy: 0.9457 - val_loss: 0.1872 - val_accuracy: 0.9453\n",
      "Epoch 49/100\n",
      "2619/2619 - 1s - loss: 0.1831 - accuracy: 0.9457 - val_loss: 0.1868 - val_accuracy: 0.9453\n",
      "Epoch 50/100\n",
      "2619/2619 - 1s - loss: 0.1830 - accuracy: 0.9457 - val_loss: 0.1873 - val_accuracy: 0.9453\n",
      "Epoch 51/100\n",
      "2619/2619 - 1s - loss: 0.1831 - accuracy: 0.9457 - val_loss: 0.1863 - val_accuracy: 0.9453\n",
      "Epoch 52/100\n",
      "2619/2619 - 1s - loss: 0.1829 - accuracy: 0.9457 - val_loss: 0.1868 - val_accuracy: 0.9453\n",
      "Epoch 53/100\n",
      "2619/2619 - 1s - loss: 0.1829 - accuracy: 0.9457 - val_loss: 0.1872 - val_accuracy: 0.9453\n",
      "Epoch 54/100\n",
      "2619/2619 - 1s - loss: 0.1830 - accuracy: 0.9457 - val_loss: 0.1866 - val_accuracy: 0.9453\n",
      "Epoch 55/100\n",
      "2619/2619 - 1s - loss: 0.1830 - accuracy: 0.9457 - val_loss: 0.1870 - val_accuracy: 0.9453\n",
      "Epoch 56/100\n",
      "2619/2619 - 1s - loss: 0.1829 - accuracy: 0.9457 - val_loss: 0.1872 - val_accuracy: 0.9453\n",
      "Epoch 57/100\n",
      "2619/2619 - 1s - loss: 0.1830 - accuracy: 0.9457 - val_loss: 0.1876 - val_accuracy: 0.9453\n",
      "Epoch 58/100\n",
      "2619/2619 - 1s - loss: 0.1829 - accuracy: 0.9457 - val_loss: 0.1868 - val_accuracy: 0.9453\n",
      "Epoch 59/100\n",
      "2619/2619 - 1s - loss: 0.1829 - accuracy: 0.9457 - val_loss: 0.1869 - val_accuracy: 0.9453\n",
      "Epoch 60/100\n",
      "2619/2619 - 1s - loss: 0.1828 - accuracy: 0.9457 - val_loss: 0.1870 - val_accuracy: 0.9453\n",
      "Epoch 61/100\n",
      "2619/2619 - 1s - loss: 0.1830 - accuracy: 0.9457 - val_loss: 0.1871 - val_accuracy: 0.9453\n",
      "Epoch 62/100\n",
      "2619/2619 - 1s - loss: 0.1829 - accuracy: 0.9457 - val_loss: 0.1864 - val_accuracy: 0.9453\n",
      "Epoch 63/100\n",
      "2619/2619 - 1s - loss: 0.1829 - accuracy: 0.9457 - val_loss: 0.1865 - val_accuracy: 0.9453\n",
      "Epoch 64/100\n",
      "2619/2619 - 1s - loss: 0.1829 - accuracy: 0.9457 - val_loss: 0.1865 - val_accuracy: 0.9453\n",
      "Epoch 65/100\n",
      "2619/2619 - 1s - loss: 0.1828 - accuracy: 0.9457 - val_loss: 0.1868 - val_accuracy: 0.9453\n",
      "Epoch 66/100\n",
      "2619/2619 - 1s - loss: 0.1828 - accuracy: 0.9457 - val_loss: 0.1870 - val_accuracy: 0.9453\n",
      "Epoch 67/100\n",
      "2619/2619 - 1s - loss: 0.1828 - accuracy: 0.9457 - val_loss: 0.1863 - val_accuracy: 0.9453\n",
      "Epoch 68/100\n",
      "2619/2619 - 1s - loss: 0.1827 - accuracy: 0.9458 - val_loss: 0.1871 - val_accuracy: 0.9453\n",
      "Epoch 69/100\n",
      "2619/2619 - 1s - loss: 0.1827 - accuracy: 0.9457 - val_loss: 0.1879 - val_accuracy: 0.9453\n",
      "Epoch 70/100\n",
      "2619/2619 - 1s - loss: 0.1828 - accuracy: 0.9457 - val_loss: 0.1873 - val_accuracy: 0.9453\n",
      "Epoch 71/100\n",
      "2619/2619 - 1s - loss: 0.1826 - accuracy: 0.9457 - val_loss: 0.1873 - val_accuracy: 0.9453\n",
      "Epoch 72/100\n",
      "2619/2619 - 1s - loss: 0.1826 - accuracy: 0.9457 - val_loss: 0.1872 - val_accuracy: 0.9453\n",
      "Epoch 73/100\n",
      "2619/2619 - 1s - loss: 0.1827 - accuracy: 0.9457 - val_loss: 0.1870 - val_accuracy: 0.9453\n",
      "Epoch 74/100\n",
      "2619/2619 - 1s - loss: 0.1826 - accuracy: 0.9457 - val_loss: 0.1874 - val_accuracy: 0.9453\n",
      "Epoch 75/100\n",
      "2619/2619 - 1s - loss: 0.1826 - accuracy: 0.9457 - val_loss: 0.1876 - val_accuracy: 0.9453\n",
      "Epoch 76/100\n",
      "2619/2619 - 1s - loss: 0.1825 - accuracy: 0.9457 - val_loss: 0.1877 - val_accuracy: 0.9453\n",
      "Epoch 77/100\n",
      "2619/2619 - 1s - loss: 0.1826 - accuracy: 0.9457 - val_loss: 0.1886 - val_accuracy: 0.9453\n",
      "Epoch 78/100\n",
      "2619/2619 - 1s - loss: 0.1826 - accuracy: 0.9457 - val_loss: 0.1871 - val_accuracy: 0.9453\n",
      "Epoch 79/100\n",
      "2619/2619 - 1s - loss: 0.1826 - accuracy: 0.9457 - val_loss: 0.1872 - val_accuracy: 0.9453\n"
     ]
    },
    {
     "name": "stdout",
     "output_type": "stream",
     "text": [
      "Epoch 80/100\n",
      "2619/2619 - 1s - loss: 0.1825 - accuracy: 0.9457 - val_loss: 0.1875 - val_accuracy: 0.9453\n",
      "Epoch 81/100\n",
      "2619/2619 - 1s - loss: 0.1825 - accuracy: 0.9457 - val_loss: 0.1877 - val_accuracy: 0.9453\n",
      "Epoch 82/100\n",
      "2619/2619 - 1s - loss: 0.1825 - accuracy: 0.9457 - val_loss: 0.1880 - val_accuracy: 0.9453\n",
      "Epoch 83/100\n",
      "2619/2619 - 1s - loss: 0.1826 - accuracy: 0.9457 - val_loss: 0.1880 - val_accuracy: 0.9453\n",
      "Epoch 84/100\n",
      "2619/2619 - 1s - loss: 0.1825 - accuracy: 0.9457 - val_loss: 0.1879 - val_accuracy: 0.9453\n",
      "Epoch 85/100\n",
      "2619/2619 - 1s - loss: 0.1823 - accuracy: 0.9457 - val_loss: 0.1888 - val_accuracy: 0.9453\n",
      "Epoch 86/100\n",
      "2619/2619 - 1s - loss: 0.1825 - accuracy: 0.9457 - val_loss: 0.1876 - val_accuracy: 0.9453\n",
      "Epoch 87/100\n",
      "2619/2619 - 1s - loss: 0.1825 - accuracy: 0.9457 - val_loss: 0.1874 - val_accuracy: 0.9453\n",
      "Epoch 88/100\n",
      "2619/2619 - 1s - loss: 0.1825 - accuracy: 0.9457 - val_loss: 0.1877 - val_accuracy: 0.9453\n",
      "Epoch 89/100\n",
      "2619/2619 - 1s - loss: 0.1824 - accuracy: 0.9457 - val_loss: 0.1878 - val_accuracy: 0.9453\n",
      "Epoch 90/100\n",
      "2619/2619 - 1s - loss: 0.1824 - accuracy: 0.9457 - val_loss: 0.1871 - val_accuracy: 0.9453\n",
      "Epoch 91/100\n",
      "2619/2619 - 1s - loss: 0.1824 - accuracy: 0.9458 - val_loss: 0.1874 - val_accuracy: 0.9453\n",
      "Epoch 92/100\n",
      "2619/2619 - 1s - loss: 0.1822 - accuracy: 0.9457 - val_loss: 0.1875 - val_accuracy: 0.9453\n",
      "Epoch 93/100\n",
      "2619/2619 - 1s - loss: 0.1823 - accuracy: 0.9457 - val_loss: 0.1882 - val_accuracy: 0.9453\n",
      "Epoch 94/100\n",
      "2619/2619 - 1s - loss: 0.1824 - accuracy: 0.9457 - val_loss: 0.1881 - val_accuracy: 0.9453\n",
      "Epoch 95/100\n",
      "2619/2619 - 1s - loss: 0.1824 - accuracy: 0.9457 - val_loss: 0.1872 - val_accuracy: 0.9453\n",
      "Epoch 96/100\n",
      "2619/2619 - 1s - loss: 0.1824 - accuracy: 0.9457 - val_loss: 0.1875 - val_accuracy: 0.9453\n",
      "Epoch 97/100\n",
      "2619/2619 - 1s - loss: 0.1823 - accuracy: 0.9457 - val_loss: 0.1881 - val_accuracy: 0.9453\n",
      "Epoch 98/100\n",
      "2619/2619 - 1s - loss: 0.1825 - accuracy: 0.9457 - val_loss: 0.1880 - val_accuracy: 0.9453\n",
      "Epoch 99/100\n",
      "2619/2619 - 1s - loss: 0.1823 - accuracy: 0.9457 - val_loss: 0.1882 - val_accuracy: 0.9453\n",
      "Epoch 100/100\n",
      "2619/2619 - 1s - loss: 0.1822 - accuracy: 0.9457 - val_loss: 0.1875 - val_accuracy: 0.9453\n"
     ]
    },
    {
     "data": {
      "text/plain": [
       "<tensorflow.python.keras.callbacks.History at 0x2579c0e59d0>"
      ]
     },
     "execution_count": 41,
     "metadata": {},
     "output_type": "execute_result"
    }
   ],
   "source": [
    "model.fit(x= x_train,y = y_train,batch_size = 32,validation_split = 0.1,epochs = 100,shuffle = True,verbose = 2)"
   ]
  },
  {
   "cell_type": "code",
   "execution_count": 44,
   "metadata": {},
   "outputs": [],
   "source": [
    "y_predict = model.predict(x_test)"
   ]
  },
  {
   "cell_type": "code",
   "execution_count": 50,
   "metadata": {
    "scrolled": false
   },
   "outputs": [
    {
     "data": {
      "text/plain": [
       "array([[4.3683052e-03],\n",
       "       [2.1039337e-02],\n",
       "       [4.5896888e-02],\n",
       "       ...,\n",
       "       [4.4182241e-03],\n",
       "       [2.1311671e-02],\n",
       "       [1.6779610e-05]], dtype=float32)"
      ]
     },
     "execution_count": 50,
     "metadata": {},
     "output_type": "execute_result"
    }
   ],
   "source": [
    "y_predict"
   ]
  },
  {
   "cell_type": "code",
   "execution_count": 46,
   "metadata": {},
   "outputs": [],
   "source": [
    "cilent_id = pd.Series(cilent_id,name = \"client_id\")"
   ]
  },
  {
   "cell_type": "code",
   "execution_count": 47,
   "metadata": {},
   "outputs": [],
   "source": [
    "cilent_id=cilent_id.to_frame()"
   ]
  },
  {
   "cell_type": "code",
   "execution_count": 48,
   "metadata": {},
   "outputs": [
    {
     "data": {
      "text/plain": [
       "pandas.core.frame.DataFrame"
      ]
     },
     "execution_count": 48,
     "metadata": {},
     "output_type": "execute_result"
    }
   ],
   "source": [
    "type(cilent_id)"
   ]
  },
  {
   "cell_type": "code",
   "execution_count": 51,
   "metadata": {
    "collapsed": true
   },
   "outputs": [
    {
     "ename": "Exception",
     "evalue": "Data must be 1-dimensional",
     "output_type": "error",
     "traceback": [
      "\u001b[1;31m---------------------------------------------------------------------------\u001b[0m",
      "\u001b[1;31mException\u001b[0m                                 Traceback (most recent call last)",
      "\u001b[1;32m<ipython-input-51-2c94f0942144>\u001b[0m in \u001b[0;36m<module>\u001b[1;34m\u001b[0m\n\u001b[1;32m----> 1\u001b[1;33m \u001b[0my_predict\u001b[0m \u001b[1;33m=\u001b[0m \u001b[0mpd\u001b[0m\u001b[1;33m.\u001b[0m\u001b[0mSeries\u001b[0m\u001b[1;33m(\u001b[0m\u001b[0my_predict\u001b[0m\u001b[1;33m,\u001b[0m\u001b[0mname\u001b[0m\u001b[1;33m=\u001b[0m \u001b[1;34m\"target\"\u001b[0m\u001b[1;33m)\u001b[0m\u001b[1;33m\u001b[0m\u001b[1;33m\u001b[0m\u001b[0m\n\u001b[0m",
      "\u001b[1;32m~\\anaconda3\\lib\\site-packages\\pandas\\core\\series.py\u001b[0m in \u001b[0;36m__init__\u001b[1;34m(self, data, index, dtype, name, copy, fastpath)\u001b[0m\n\u001b[0;32m    325\u001b[0m                     \u001b[0mdata\u001b[0m \u001b[1;33m=\u001b[0m \u001b[0mdata\u001b[0m\u001b[1;33m.\u001b[0m\u001b[0mcopy\u001b[0m\u001b[1;33m(\u001b[0m\u001b[1;33m)\u001b[0m\u001b[1;33m\u001b[0m\u001b[1;33m\u001b[0m\u001b[0m\n\u001b[0;32m    326\u001b[0m             \u001b[1;32melse\u001b[0m\u001b[1;33m:\u001b[0m\u001b[1;33m\u001b[0m\u001b[1;33m\u001b[0m\u001b[0m\n\u001b[1;32m--> 327\u001b[1;33m                 \u001b[0mdata\u001b[0m \u001b[1;33m=\u001b[0m \u001b[0msanitize_array\u001b[0m\u001b[1;33m(\u001b[0m\u001b[0mdata\u001b[0m\u001b[1;33m,\u001b[0m \u001b[0mindex\u001b[0m\u001b[1;33m,\u001b[0m \u001b[0mdtype\u001b[0m\u001b[1;33m,\u001b[0m \u001b[0mcopy\u001b[0m\u001b[1;33m,\u001b[0m \u001b[0mraise_cast_failure\u001b[0m\u001b[1;33m=\u001b[0m\u001b[1;32mTrue\u001b[0m\u001b[1;33m)\u001b[0m\u001b[1;33m\u001b[0m\u001b[1;33m\u001b[0m\u001b[0m\n\u001b[0m\u001b[0;32m    328\u001b[0m \u001b[1;33m\u001b[0m\u001b[0m\n\u001b[0;32m    329\u001b[0m                 \u001b[0mdata\u001b[0m \u001b[1;33m=\u001b[0m \u001b[0mSingleBlockManager\u001b[0m\u001b[1;33m.\u001b[0m\u001b[0mfrom_array\u001b[0m\u001b[1;33m(\u001b[0m\u001b[0mdata\u001b[0m\u001b[1;33m,\u001b[0m \u001b[0mindex\u001b[0m\u001b[1;33m)\u001b[0m\u001b[1;33m\u001b[0m\u001b[1;33m\u001b[0m\u001b[0m\n",
      "\u001b[1;32m~\\anaconda3\\lib\\site-packages\\pandas\\core\\construction.py\u001b[0m in \u001b[0;36msanitize_array\u001b[1;34m(data, index, dtype, copy, raise_cast_failure)\u001b[0m\n\u001b[0;32m    494\u001b[0m     \u001b[1;32melif\u001b[0m \u001b[0msubarr\u001b[0m\u001b[1;33m.\u001b[0m\u001b[0mndim\u001b[0m \u001b[1;33m>\u001b[0m \u001b[1;36m1\u001b[0m\u001b[1;33m:\u001b[0m\u001b[1;33m\u001b[0m\u001b[1;33m\u001b[0m\u001b[0m\n\u001b[0;32m    495\u001b[0m         \u001b[1;32mif\u001b[0m \u001b[0misinstance\u001b[0m\u001b[1;33m(\u001b[0m\u001b[0mdata\u001b[0m\u001b[1;33m,\u001b[0m \u001b[0mnp\u001b[0m\u001b[1;33m.\u001b[0m\u001b[0mndarray\u001b[0m\u001b[1;33m)\u001b[0m\u001b[1;33m:\u001b[0m\u001b[1;33m\u001b[0m\u001b[1;33m\u001b[0m\u001b[0m\n\u001b[1;32m--> 496\u001b[1;33m             \u001b[1;32mraise\u001b[0m \u001b[0mException\u001b[0m\u001b[1;33m(\u001b[0m\u001b[1;34m\"Data must be 1-dimensional\"\u001b[0m\u001b[1;33m)\u001b[0m\u001b[1;33m\u001b[0m\u001b[1;33m\u001b[0m\u001b[0m\n\u001b[0m\u001b[0;32m    497\u001b[0m         \u001b[1;32melse\u001b[0m\u001b[1;33m:\u001b[0m\u001b[1;33m\u001b[0m\u001b[1;33m\u001b[0m\u001b[0m\n\u001b[0;32m    498\u001b[0m             \u001b[0msubarr\u001b[0m \u001b[1;33m=\u001b[0m \u001b[0mcom\u001b[0m\u001b[1;33m.\u001b[0m\u001b[0masarray_tuplesafe\u001b[0m\u001b[1;33m(\u001b[0m\u001b[0mdata\u001b[0m\u001b[1;33m,\u001b[0m \u001b[0mdtype\u001b[0m\u001b[1;33m=\u001b[0m\u001b[0mdtype\u001b[0m\u001b[1;33m)\u001b[0m\u001b[1;33m\u001b[0m\u001b[1;33m\u001b[0m\u001b[0m\n",
      "\u001b[1;31mException\u001b[0m: Data must be 1-dimensional"
     ]
    }
   ],
   "source": [
    "y_predict = pd.Series(y_predict,name= \"target\")"
   ]
  },
  {
   "cell_type": "code",
   "execution_count": 52,
   "metadata": {},
   "outputs": [
    {
     "ename": "AttributeError",
     "evalue": "'numpy.ndarray' object has no attribute 'to_frame'",
     "output_type": "error",
     "traceback": [
      "\u001b[1;31m---------------------------------------------------------------------------\u001b[0m",
      "\u001b[1;31mAttributeError\u001b[0m                            Traceback (most recent call last)",
      "\u001b[1;32m<ipython-input-52-477cd27b853e>\u001b[0m in \u001b[0;36m<module>\u001b[1;34m\u001b[0m\n\u001b[1;32m----> 1\u001b[1;33m \u001b[0my_predict\u001b[0m \u001b[1;33m=\u001b[0m \u001b[0my_predict\u001b[0m\u001b[1;33m.\u001b[0m\u001b[0mto_frame\u001b[0m\u001b[1;33m(\u001b[0m\u001b[1;33m)\u001b[0m\u001b[1;33m\u001b[0m\u001b[1;33m\u001b[0m\u001b[0m\n\u001b[0m",
      "\u001b[1;31mAttributeError\u001b[0m: 'numpy.ndarray' object has no attribute 'to_frame'"
     ]
    }
   ],
   "source": [
    "y_predict = y_predict.to_frame()"
   ]
  },
  {
   "cell_type": "code",
   "execution_count": 53,
   "metadata": {},
   "outputs": [],
   "source": [
    "cilent_id[\"target\"] = y_predict"
   ]
  },
  {
   "cell_type": "code",
   "execution_count": 56,
   "metadata": {},
   "outputs": [
    {
     "data": {
      "text/plain": [
       "0        0.004368\n",
       "1        0.021039\n",
       "2        0.045897\n",
       "3        0.077683\n",
       "4        0.121293\n",
       "           ...   \n",
       "36105    0.075633\n",
       "36106    0.039339\n",
       "36107    0.004418\n",
       "36108    0.021312\n",
       "36109    0.000017\n",
       "Name: target, Length: 36110, dtype: float32"
      ]
     },
     "execution_count": 56,
     "metadata": {},
     "output_type": "execute_result"
    }
   ],
   "source": [
    "cilent_id[\"target\"]"
   ]
  },
  {
   "cell_type": "code",
   "execution_count": 59,
   "metadata": {},
   "outputs": [],
   "source": [
    "cilent_id.to_csv(\"first_reconizance_part1_predict.csv\")"
   ]
  },
  {
   "cell_type": "code",
   "execution_count": 58,
   "metadata": {},
   "outputs": [
    {
     "data": {
      "text/plain": [
       "(36110, 2)"
      ]
     },
     "execution_count": 58,
     "metadata": {},
     "output_type": "execute_result"
    }
   ],
   "source": [
    "cilent_id.shape"
   ]
  },
  {
   "cell_type": "code",
   "execution_count": null,
   "metadata": {},
   "outputs": [],
   "source": []
  }
 ],
 "metadata": {
  "kernelspec": {
   "display_name": "Python 3",
   "language": "python",
   "name": "python3"
  },
  "language_info": {
   "codemirror_mode": {
    "name": "ipython",
    "version": 3
   },
   "file_extension": ".py",
   "mimetype": "text/x-python",
   "name": "python",
   "nbconvert_exporter": "python",
   "pygments_lexer": "ipython3",
   "version": "3.8.5"
  }
 },
 "nbformat": 4,
 "nbformat_minor": 4
}
